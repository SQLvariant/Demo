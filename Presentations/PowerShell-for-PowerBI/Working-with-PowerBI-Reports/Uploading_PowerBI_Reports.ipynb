{
    "metadata": {
        "kernelspec": {
            "name": "powershell",
            "display_name": "PowerShell",
            "language": "powershell"
        },
        "language_info": {
            "name": "powershell",
            "codemirror_mode": "shell",
            "mimetype": "text/x-sh",
            "file_extension": ".ps1"
        }
    },
    "nbformat_minor": 2,
    "nbformat": 4,
    "cells": [
        {
            "cell_type": "markdown",
            "source": [
                "<img src=\"https://app.powerbi.com/13.0.10537.111/images/PowerBI96x96.png?raw=true\" width=\"10%\"> ➕\r\n",
                "<img src=\"https://github.com/Microsoft/azuredatastudio/blob/master/samples/notebookSamples/Graphics/AzureDataStudioLogo.png?raw=true\" width=\"10%\"> = ❤\r\n",
                "\r\n",
                "# Copying Workspaces with PowerShell\r\n",
                ""
            ],
            "metadata": {
                "azdata_cell_guid": "4c4ef8d1-f127-4267-b80c-470a85825855",
                "tags": [
                    "hide_input"
                ]
            }
        },
        {
            "cell_type": "markdown",
            "source": [
                "If you don't already have the Power BI PowerShell module installed, you can do that now by running the `Install-Module` command below."
            ],
            "metadata": {
                "azdata_cell_guid": "a60e8cfa-0259-4ea3-b2ee-5a1f57c51bf6"
            }
        },
        {
            "cell_type": "code",
            "source": [
                "Install-Module -Name MicrosoftPowerBIMgmt -Scope CurrentUser"
            ],
            "metadata": {
                "azdata_cell_guid": "b2142fb1-b0ea-4765-a7c8-55d16519de61",
                "tags": [
                    "hide_input"
                ]
            },
            "outputs": [],
            "execution_count": null
        },
        {
            "cell_type": "markdown",
            "source": [
                "Before you can get any of the Power BI cmdlets to work, you first need to login to your tenant.  \r\n",
                "\r\n",
                "Once you login, your credentials will be used for all subsequent Power BI commands in this Notebook.  After running the command below, you should not have to run `Login-PowerBI` again until you either: A) Close & re-open this Notebook.  B) run the `Logout-PowerBI` command."
            ],
            "metadata": {
                "azdata_cell_guid": "fddc1b59-9116-48be-a27b-2e6beb3b00e9",
                "tags": []
            }
        },
        {
            "cell_type": "code",
            "source": [
                "Login-PowerBI"
            ],
            "metadata": {
                "azdata_cell_guid": "139c0111-976b-4bd1-a4a4-97dfe4d13b41",
                "tags": [
                    "hide_input"
                ]
            },
            "outputs": [],
            "execution_count": null
        },
        {
            "cell_type": "markdown",
            "source": [
                "Here's a list of all the PowerShell cmdlets available for Power BI."
            ],
            "metadata": {
                "azdata_cell_guid": "5b8cdd56-c570-403e-ada2-7cae4073c14f",
                "tags": [
                    "hide_input"
                ]
            }
        },
        {
            "cell_type": "code",
            "source": [
                "Get-Command -Module MicrosoftPowerBI* -CommandType Cmdlet"
            ],
            "metadata": {
                "azdata_cell_guid": "3cd36849-2948-4e53-ae58-9f0977811220",
                "tags": [
                    "hide_input"
                ]
            },
            "outputs": [],
            "execution_count": null
        },
        {
            "cell_type": "markdown",
            "source": [
                "Here are the cmdlets available for working with Workspaces"
            ],
            "metadata": {
                "azdata_cell_guid": "baf21b55-0c44-4707-b862-031c23056523",
                "tags": [
                    "hide_input"
                ]
            }
        },
        {
            "cell_type": "code",
            "source": [
                "Get-Command -Module MicrosoftPowerBI* -Noun *Report*"
            ],
            "metadata": {
                "azdata_cell_guid": "965ecfac-644c-4dd7-a2ae-0d20e64d0119",
                "tags": [
                    "hide_input"
                ]
            },
            "outputs": [
                {
                    "output_type": "stream",
                    "name": "stdout",
                    "text": "\nCommandType     Name                                               Version    Source                                   \n-----------     ----                                               -------    ------                                   \nCmdlet          Copy-PowerBIReport                                 1.0.867    MicrosoftPowerBIMgmt.Reports             \nCmdlet          Export-PowerBIReport                               1.0.867    MicrosoftPowerBIMgmt.Reports             \nCmdlet          Get-PowerBIReport                                  1.0.867    MicrosoftPowerBIMgmt.Reports             \nCmdlet          New-PowerBIReport                                  1.0.867    MicrosoftPowerBIMgmt.Reports             \nCmdlet          Remove-PowerBIReport                               1.0.867    MicrosoftPowerBIMgmt.Reports             \n\n\n"
                }
            ],
            "execution_count": 2
        },
        {
            "cell_type": "markdown",
            "source": [
                "As you can see, there's no cmdlet for **copying** the Workspace, it's actually a separate demo script.\r\n",
                "Use the code below to download & open it in another window."
            ],
            "metadata": {
                "azdata_cell_guid": "4e4cd5fa-955d-48bc-8f56-0e0ee42975af",
                "tags": [
                    "hide_input"
                ]
            }
        },
        {
            "cell_type": "code",
            "source": [
                "New-PowerBIWorkspace -Name 'Monthly Desktop Blog Samples'"
            ],
            "metadata": {
                "azdata_cell_guid": "59c2ec06-11a5-410e-9b55-bae89124bfc6",
                "tags": []
            },
            "outputs": [
                {
                    "output_type": "stream",
                    "name": "stdout",
                    "text": "\n\nId                    : 0eecefe6-fa5b-4521-9d25-c7f65025118c\nName                  : Monthly Desktop Blog Samples\nIsReadOnly            : False\nIsOrphaned            : False\nIsOnDedicatedCapacity : False\nCapacityId            : \n\n\n\n"
                }
            ],
            "execution_count": 3
        },
        {
            "cell_type": "code",
            "source": [
                "dir 'C:\\temp\\PowerShell-for-PowerBI\\Monthly Desktop Blog Samples' -Filter *.PBIX -Recurse | foreach {\r\n",
                "    New-PowerBIReport -Path $_.FullName -Workspace (Get-PowerBIWorkspace -Name 'Monthly Desktop Blog Samples')\r\n",
                "    }"
            ],
            "metadata": {
                "azdata_cell_guid": "b6552e9c-9bda-4049-87d9-3f0c99332c23"
            },
            "outputs": [
                {
                    "output_type": "stream",
                    "name": "stdout",
                    "text": "\n\nId        : b8c1ffb7-65c1-4cf8-aa0e-28b6d7428419\nName      : 2018SU04 Blog Demo - April\nWebUrl    : https://app.powerbi.com/groups/0eecefe6-fa5b-4521-9d25-c7f65025118c/reports/b8c1ffb7-65c1-4cf8-aa0e-28b6d74\n            28419\nEmbedUrl  : https://app.powerbi.com/reportEmbed?reportId=b8c1ffb7-65c1-4cf8-aa0e-28b6d7428419&config=eyJjbHVzdGVyVXJsIj\n            oiaHR0cHM6Ly9XQUJJLVVTLUVBU1QyLUItUFJJTUFSWS1yZWRpcmVjdC5hbmFseXNpcy53aW5kb3dzLm5ldCIsImVtYmVkRmVhdHVyZXMiO\n            nsibW9kZXJuRW1iZWQiOnRydWV9fQ%3d%3d\nDatasetId : \n\n"
                },
                {
                    "output_type": "stream",
                    "name": "stdout",
                    "text": "Id        : 92fe0032-6b76-41d4-a4fc-3bffbb90192f\nName      : 2018SU05 Blog Demo - May\nWebUrl    : https://app.powerbi.com/groups/0eecefe6-fa5b-4521-9d25-c7f65025118c/reports/92fe0032-6b76-41d4-a4fc-3bffbb9\n            0192f\nEmbedUrl  : https://app.powerbi.com/reportEmbed?reportId=92fe0032-6b76-41d4-a4fc-3bffbb90192f&config=eyJjbHVzdGVyVXJsIj\n            oiaHR0cHM6Ly9XQUJJLVVTLUVBU1QyLUItUFJJTUFSWS1yZWRpcmVjdC5hbmFseXNpcy53aW5kb3dzLm5ldCIsImVtYmVkRmVhdHVyZXMiO\n            nsibW9kZXJuRW1iZWQiOnRydWV9fQ%3d%3d\nDatasetId : \n\n"
                },
                {
                    "output_type": "stream",
                    "name": "stdout",
                    "text": "Id        : 661a63e6-4fba-4e7e-b8de-3ed59702568d\nName      : 2018SU06 Blog Demo - June\nWebUrl    : https://app.powerbi.com/groups/0eecefe6-fa5b-4521-9d25-c7f65025118c/reports/661a63e6-4fba-4e7e-b8de-3ed5970\n            2568d\n"
                },
                {
                    "output_type": "stream",
                    "name": "stdout",
                    "text": "EmbedUrl  : https://app.powerbi.com/reportEmbed?reportId=661a63e6-4fba-4e7e-b8de-3ed59702568d&config=eyJjbHVzdGVyVXJsIj\n            oiaHR0cHM6Ly9XQUJJLVVTLUVBU1QyLUItUFJJTUFSWS1yZWRpcmVjdC5hbmFseXNpcy53aW5kb3dzLm5ldCIsImVtYmVkRmVhdHVyZXMiO\n            nsibW9kZXJuRW1iZWQiOnRydWV9fQ%3d%3d\nDatasetId : \n\n"
                },
                {
                    "output_type": "stream",
                    "name": "stdout",
                    "text": "Id        : a6809a3f-6fd9-4e50-9aa0-d3d815d29b93\nName      : 2018SU07 Blog Demo - July\nWebUrl    : https://app.powerbi.com/groups/0eecefe6-fa5b-4521-9d25-c7f65025118c/reports/a6809a3f-6fd9-4e50-9aa0-d3d815d\n            29b93\nEmbedUrl  : https://app.powerbi.com/reportEmbed?reportId=a6809a3f-6fd9-4e50-9aa0-d3d815d29b93&config=eyJjbHVzdGVyVXJsIj\n            oiaHR0cHM6Ly9XQUJJLVVTLUVBU1QyLUItUFJJTUFSWS1yZWRpcmVjdC5hbmFseXNpcy53aW5kb3dzLm5ldCIsImVtYmVkRmVhdHVyZXMiO\n            nsibW9kZXJuRW1iZWQiOnRydWV9fQ%3d%3d\nDatasetId : \n\n"
                },
                {
                    "output_type": "stream",
                    "name": "stdout",
                    "text": "Id        : cc6f8c02-51d7-4e69-b5c1-5fe4f00b2a26\nName      : 2018SU08 Blog Demo - August\nWebUrl    : https://app.powerbi.com/groups/0eecefe6-fa5b-4521-9d25-c7f65025118c/reports/cc6f8c02-51d7-4e69-b5c1-5fe4f00\n            b2a26\nEmbedUrl  : https://app.powerbi.com/reportEmbed?reportId=cc6f8c02-51d7-4e69-b5c1-5fe4f00b2a26&config=eyJjbHVzdGVyVXJsIj\n            oiaHR0cHM6Ly9XQUJJLVVTLUVBU1QyLUItUFJJTUFSWS1yZWRpcmVjdC5hbmFseXNpcy53aW5kb3dzLm5ldCIsImVtYmVkRmVhdHVyZXMiO\n            nsibW9kZXJuRW1iZWQiOnRydWV9fQ%3d%3d\nDatasetId : \n\n"
                },
                {
                    "output_type": "stream",
                    "name": "stdout",
                    "text": "Id        : efb6481f-ec8d-4f41-af09-2bef19466824\nName      : 2018SU09 Blog Demo - September - New Format\nWebUrl    : https://app.powerbi.com/groups/0eecefe6-fa5b-4521-9d25-c7f65025118c/reports/efb6481f-ec8d-4f41-af09-2bef194\n            66824\nEmbedUrl  : https://app.powerbi.com/reportEmbed?reportId=efb6481f-ec8d-4f41-af09-2bef19466824&config=eyJjbHVzdGVyVXJsIj\n            oiaHR0cHM6Ly9XQUJJLVVTLUVBU1QyLUItUFJJTUFSWS1yZWRpcmVjdC5hbmFseXNpcy53aW5kb3dzLm5ldCIsImVtYmVkRmVhdHVyZXMiO\n            nsibW9kZXJuRW1iZWQiOnRydWV9fQ%3d%3d\nDatasetId : \n\n"
                },
                {
                    "output_type": "stream",
                    "name": "stdout",
                    "text": "Id        : b872db4c-fa2b-440c-ae6f-3bdc6fcf586d\nName      : 2018SU09 Blog Demo - September\nWebUrl    : https://app.powerbi.com/groups/0eecefe6-fa5b-4521-9d25-c7f65025118c/reports/b872db4c-fa2b-440c-ae6f-3bdc6fc\n            f586d\nEmbedUrl  : https://app.powerbi.com/reportEmbed?reportId=b872db4c-fa2b-440c-ae6f-3bdc6fcf586d&config=eyJjbHVzdGVyVXJsIj\n            oiaHR0cHM6Ly9XQUJJLVVTLUVBU1QyLUItUFJJTUFSWS1yZWRpcmVjdC5hbmFseXNpcy53aW5kb3dzLm5ldCIsImVtYmVkRmVhdHVyZXMiO\n            nsibW9kZXJuRW1iZWQiOnRydWV9fQ%3d%3d\nDatasetId : \n\n"
                },
                {
                    "output_type": "stream",
                    "name": "stdout",
                    "text": "Id        : 43f38a0b-4d71-4fdc-a8fb-75fedfd0ce1f\nName      : 2018SU10 Blog Demo - October\nWebUrl    : https://app.powerbi.com/groups/0eecefe6-fa5b-4521-9d25-c7f65025118c/reports/43f38a0b-4d71-4fdc-a8fb-75fedfd\n            0ce1f\nEmbedUrl  : https://app.powerbi.com/reportEmbed?reportId=43f38a0b-4d71-4fdc-a8fb-75fedfd0ce1f&config=eyJjbHVzdGVyVXJsIj\n            oiaHR0cHM6Ly9XQUJJLVVTLUVBU1QyLUItUFJJTUFSWS1yZWRpcmVjdC5hbmFseXNpcy53aW5kb3dzLm5ldCIsImVtYmVkRmVhdHVyZXMiO\n            nsibW9kZXJuRW1iZWQiOnRydWV9fQ%3d%3d\nDatasetId : \n\n"
                },
                {
                    "output_type": "stream",
                    "name": "stdout",
                    "text": "Id        : 037a5065-aac9-415d-b87f-6413c6433291\nName      : 2018SU10 Data Profiling Demo - October\nWebUrl    : https://app.powerbi.com/groups/0eecefe6-fa5b-4521-9d25-c7f65025118c/reports/037a5065-aac9-415d-b87f-6413c64\n            33291\nEmbedUrl  : https://app.powerbi.com/reportEmbed?reportId=037a5065-aac9-415d-b87f-6413c6433291&config=eyJjbHVzdGVyVXJsIj\n            oiaHR0cHM6Ly9XQUJJLVVTLUVBU1QyLUItUFJJTUFSWS1yZWRpcmVjdC5hbmFseXNpcy53aW5kb3dzLm5ldCIsImVtYmVkRmVhdHVyZXMiO\n            nsibW9kZXJuRW1iZWQiOnRydWV9fQ%3d%3d\nDatasetId : \n\n"
                },
                {
                    "output_type": "stream",
                    "name": "stdout",
                    "text": "Id        : e3fdcd3f-76f7-45d7-8552-3aead1098588\nName      : 2018SU10 Fuzzy Matching Demo - October\nWebUrl    : https://app.powerbi.com/groups/0eecefe6-fa5b-4521-9d25-c7f65025118c/reports/e3fdcd3f-76f7-45d7-8552-3aead10\n            98588\nEmbedUrl  : https://app.powerbi.com/reportEmbed?reportId=e3fdcd3f-76f7-45d7-8552-3aead1098588&config=eyJjbHVzdGVyVXJsIj\n            oiaHR0cHM6Ly9XQUJJLVVTLUVBU1QyLUItUFJJTUFSWS1yZWRpcmVjdC5hbmFseXNpcy53aW5kb3dzLm5ldCIsImVtYmVkRmVhdHVyZXMiO\n            nsibW9kZXJuRW1iZWQiOnRydWV9fQ%3d%3d\nDatasetId : \n\n"
                },
                {
                    "output_type": "stream",
                    "name": "stdout",
                    "text": "Id        : cd66d5a2-4a00-48ea-8a04-15afc041f8ff\nName      : 2018SU11 Blog Demo - November\nWebUrl    : https://app.powerbi.com/groups/0eecefe6-fa5b-4521-9d25-c7f65025118c/reports/cd66d5a2-4a00-48ea-8a04-15afc04\n            1f8ff\nEmbedUrl  : https://app.powerbi.com/reportEmbed?reportId=cd66d5a2-4a00-48ea-8a04-15afc041f8ff&config=eyJjbHVzdGVyVXJsIj\n            oiaHR0cHM6Ly9XQUJJLVVTLUVBU1QyLUItUFJJTUFSWS1yZWRpcmVjdC5hbmFseXNpcy53aW5kb3dzLm5ldCIsImVtYmVkRmVhdHVyZXMiO\n            nsibW9kZXJuRW1iZWQiOnRydWV9fQ%3d%3d\nDatasetId : \n\n"
                },
                {
                    "output_type": "stream",
                    "name": "stdout",
                    "text": "Id        : 89851243-a2fe-454d-bf04-b1d8a60d1e03\nName      : 2018SU12 Blog Demo - December\nWebUrl    : https://app.powerbi.com/groups/0eecefe6-fa5b-4521-9d25-c7f65025118c/reports/89851243-a2fe-454d-bf04-b1d8a60\n            d1e03\nEmbedUrl  : https://app.powerbi.com/reportEmbed?reportId=89851243-a2fe-454d-bf04-b1d8a60d1e03&config=eyJjbHVzdGVyVXJsIj\n            oiaHR0cHM6Ly9XQUJJLVVTLUVBU1QyLUItUFJJTUFSWS1yZWRpcmVjdC5hbmFseXNpcy53aW5kb3dzLm5ldCIsImVtYmVkRmVhdHVyZXMiO\n            nsibW9kZXJuRW1iZWQiOnRydWV9fQ%3d%3d\nDatasetId : \n\n"
                },
                {
                    "output_type": "stream",
                    "name": "stdout",
                    "text": "Id        : 7221c8c6-bb3b-4742-b97f-ee90b8e75537\nName      : 2019SU01 Blog Demo - February\nWebUrl    : https://app.powerbi.com/groups/0eecefe6-fa5b-4521-9d25-c7f65025118c/reports/7221c8c6-bb3b-4742-b97f-ee90b8e\n            75537\nEmbedUrl  : https://app.powerbi.com/reportEmbed?reportId=7221c8c6-bb3b-4742-b97f-ee90b8e75537&config=eyJjbHVzdGVyVXJsIj\n            oiaHR0cHM6Ly9XQUJJLVVTLUVBU1QyLUItUFJJTUFSWS1yZWRpcmVjdC5hbmFseXNpcy53aW5kb3dzLm5ldCIsImVtYmVkRmVhdHVyZXMiO\n            nsibW9kZXJuRW1iZWQiOnRydWV9fQ%3d%3d\nDatasetId : \n\n"
                },
                {
                    "output_type": "stream",
                    "name": "stdout",
                    "text": "Id        : 78e0879e-bfab-49a2-8da2-62423446624b\nName      : 2019SU03 Blog Demo - March\nWebUrl    : https://app.powerbi.com/groups/0eecefe6-fa5b-4521-9d25-c7f65025118c/reports/78e0879e-bfab-49a2-8da2-6242344\n            6624b\nEmbedUrl  : https://app.powerbi.com/reportEmbed?reportId=78e0879e-bfab-49a2-8da2-62423446624b&config=eyJjbHVzdGVyVXJsIj\n            oiaHR0cHM6Ly9XQUJJLVVTLUVBU1QyLUItUFJJTUFSWS1yZWRpcmVjdC5hbmFseXNpcy53aW5kb3dzLm5ldCIsImVtYmVkRmVhdHVyZXMiO\n            nsibW9kZXJuRW1iZWQiOnRydWV9fQ%3d%3d\nDatasetId : \n\n"
                },
                {
                    "output_type": "stream",
                    "name": "stdout",
                    "text": "Id        : cab6de78-393e-422b-807c-dfb6e5b9ab01\nName      : 2019SU04 Blog Demo - April\nWebUrl    : https://app.powerbi.com/groups/0eecefe6-fa5b-4521-9d25-c7f65025118c/reports/cab6de78-393e-422b-807c-dfb6e5b\n            9ab01\nEmbedUrl  : https://app.powerbi.com/reportEmbed?reportId=cab6de78-393e-422b-807c-dfb6e5b9ab01&config=eyJjbHVzdGVyVXJsIj\n            oiaHR0cHM6Ly9XQUJJLVVTLUVBU1QyLUItUFJJTUFSWS1yZWRpcmVjdC5hbmFseXNpcy53aW5kb3dzLm5ldCIsImVtYmVkRmVhdHVyZXMiO\n            nsibW9kZXJuRW1iZWQiOnRydWV9fQ%3d%3d\nDatasetId : \n\n"
                },
                {
                    "output_type": "stream",
                    "name": "stdout",
                    "text": "Id        : 99561d7b-4561-4813-9482-7af96f13541f\nName      : 2019SU05 Blog Demo - May\nWebUrl    : https://app.powerbi.com/groups/0eecefe6-fa5b-4521-9d25-c7f65025118c/reports/99561d7b-4561-4813-9482-7af96f1\n            3541f\nEmbedUrl  : https://app.powerbi.com/reportEmbed?reportId=99561d7b-4561-4813-9482-7af96f13541f&config=eyJjbHVzdGVyVXJsIj\n            oiaHR0cHM6Ly9XQUJJLVVTLUVBU1QyLUItUFJJTUFSWS1yZWRpcmVjdC5hbmFseXNpcy53aW5kb3dzLm5ldCIsImVtYmVkRmVhdHVyZXMiO\n            nsibW9kZXJuRW1iZWQiOnRydWV9fQ%3d%3d\nDatasetId : \n\n"
                },
                {
                    "output_type": "stream",
                    "name": "stdout",
                    "text": "Id        : 63b06359-abae-4f72-a2e7-15810e38758b\nName      : 2019SU06 Blog Demo - June\nWebUrl    : https://app.powerbi.com/groups/0eecefe6-fa5b-4521-9d25-c7f65025118c/reports/63b06359-abae-4f72-a2e7-15810e3\n            8758b\nEmbedUrl  : https://app.powerbi.com/reportEmbed?reportId=63b06359-abae-4f72-a2e7-15810e38758b&config=eyJjbHVzdGVyVXJsIj\n            oiaHR0cHM6Ly9XQUJJLVVTLUVBU1QyLUItUFJJTUFSWS1yZWRpcmVjdC5hbmFseXNpcy53aW5kb3dzLm5ldCIsImVtYmVkRmVhdHVyZXMiO\n            nsibW9kZXJuRW1iZWQiOnRydWV9fQ%3d%3d\nDatasetId : \n\n"
                },
                {
                    "output_type": "stream",
                    "name": "stdout",
                    "text": "Id        : fbab4920-b010-4201-8344-a5b9d93309ff\nName      : 2019SU07 Blog Demo - July\nWebUrl    : https://app.powerbi.com/groups/0eecefe6-fa5b-4521-9d25-c7f65025118c/reports/fbab4920-b010-4201-8344-a5b9d93\n            309ff\nEmbedUrl  : https://app.powerbi.com/reportEmbed?reportId=fbab4920-b010-4201-8344-a5b9d93309ff&config=eyJjbHVzdGVyVXJsIj\n            oiaHR0cHM6Ly9XQUJJLVVTLUVBU1QyLUItUFJJTUFSWS1yZWRpcmVjdC5hbmFseXNpcy53aW5kb3dzLm5ldCIsImVtYmVkRmVhdHVyZXMiO\n            nsibW9kZXJuRW1iZWQiOnRydWV9fQ%3d%3d\nDatasetId : \n\n"
                },
                {
                    "output_type": "stream",
                    "name": "stdout",
                    "text": "Id        : 8fec707a-b26d-4bf0-adfd-c67d15ecf003\nName      : 2019SU08 Blog Demo - August\nWebUrl    : https://app.powerbi.com/groups/0eecefe6-fa5b-4521-9d25-c7f65025118c/reports/8fec707a-b26d-4bf0-adfd-c67d15e\n            cf003\nEmbedUrl  : https://app.powerbi.com/reportEmbed?reportId=8fec707a-b26d-4bf0-adfd-c67d15ecf003&config=eyJjbHVzdGVyVXJsIj\n            oiaHR0cHM6Ly9XQUJJLVVTLUVBU1QyLUItUFJJTUFSWS1yZWRpcmVjdC5hbmFseXNpcy53aW5kb3dzLm5ldCIsImVtYmVkRmVhdHVyZXMiO\n            nsibW9kZXJuRW1iZWQiOnRydWV9fQ%3d%3d\nDatasetId : \n\n"
                },
                {
                    "output_type": "stream",
                    "name": "stdout",
                    "text": "Id        : e973d247-1bc6-4a3b-aa2d-5fce8db77bc0\nName      : 2019SU09 Blog Demo - September\nWebUrl    : https://app.powerbi.com/groups/0eecefe6-fa5b-4521-9d25-c7f65025118c/reports/e973d247-1bc6-4a3b-aa2d-5fce8db\n            77bc0\nEmbedUrl  : https://app.powerbi.com/reportEmbed?reportId=e973d247-1bc6-4a3b-aa2d-5fce8db77bc0&config=eyJjbHVzdGVyVXJsIj\n            oiaHR0cHM6Ly9XQUJJLVVTLUVBU1QyLUItUFJJTUFSWS1yZWRpcmVjdC5hbmFseXNpcy53aW5kb3dzLm5ldCIsImVtYmVkRmVhdHVyZXMiO\n            nsibW9kZXJuRW1iZWQiOnRydWV9fQ%3d%3d\nDatasetId : \n\n"
                },
                {
                    "output_type": "stream",
                    "name": "stdout",
                    "text": "Id        : bcadf405-64d9-4187-8463-2c62e82f982e\nName      : 2019SU10 Blog Demo - October\nWebUrl    : https://app.powerbi.com/groups/0eecefe6-fa5b-4521-9d25-c7f65025118c/reports/bcadf405-64d9-4187-8463-2c62e82\n            f982e\nEmbedUrl  : https://app.powerbi.com/reportEmbed?reportId=bcadf405-64d9-4187-8463-2c62e82f982e&config=eyJjbHVzdGVyVXJsIj\n            oiaHR0cHM6Ly9XQUJJLVVTLUVBU1QyLUItUFJJTUFSWS1yZWRpcmVjdC5hbmFseXNpcy53aW5kb3dzLm5ldCIsImVtYmVkRmVhdHVyZXMiO\n            nsibW9kZXJuRW1iZWQiOnRydWV9fQ%3d%3d\nDatasetId : \n\n"
                },
                {
                    "output_type": "stream",
                    "name": "stdout",
                    "text": "Id        : 06fb2d30-2829-470e-aa5e-d71a9761b3bf\nName      : 2019SU11 Blog Demo - November\nWebUrl    : https://app.powerbi.com/groups/0eecefe6-fa5b-4521-9d25-c7f65025118c/reports/06fb2d30-2829-470e-aa5e-d71a976\n            1b3bf\nEmbedUrl  : https://app.powerbi.com/reportEmbed?reportId=06fb2d30-2829-470e-aa5e-d71a9761b3bf&config=eyJjbHVzdGVyVXJsIj\n            oiaHR0cHM6Ly9XQUJJLVVTLUVBU1QyLUItUFJJTUFSWS1yZWRpcmVjdC5hbmFseXNpcy53aW5kb3dzLm5ldCIsImVtYmVkRmVhdHVyZXMiO\n            nsibW9kZXJuRW1iZWQiOnRydWV9fQ%3d%3d\nDatasetId : \n\n"
                },
                {
                    "output_type": "stream",
                    "name": "stdout",
                    "text": "Id        : 02993800-c09b-49ad-8d3b-c0b39f93e8f5\nName      : 2019SU12 Blog Demo - December\nWebUrl    : https://app.powerbi.com/groups/0eecefe6-fa5b-4521-9d25-c7f65025118c/reports/02993800-c09b-49ad-8d3b-c0b39f9\n            3e8f5\nEmbedUrl  : https://app.powerbi.com/reportEmbed?reportId=02993800-c09b-49ad-8d3b-c0b39f93e8f5&config=eyJjbHVzdGVyVXJsIj\n            oiaHR0cHM6Ly9XQUJJLVVTLUVBU1QyLUItUFJJTUFSWS1yZWRpcmVjdC5hbmFseXNpcy53aW5kb3dzLm5ldCIsImVtYmVkRmVhdHVyZXMiO\n            nsibW9kZXJuRW1iZWQiOnRydWV9fQ%3d%3d\nDatasetId : \n\n"
                },
                {
                    "output_type": "stream",
                    "name": "stdout",
                    "text": "Id        : 04fbf734-6b54-4cf8-9599-58a23d2acf39\nName      : customerfeedback\n"
                },
                {
                    "output_type": "stream",
                    "name": "stdout",
                    "text": "WebUrl    : https://app.powerbi.com/groups/0eecefe6-fa5b-4521-9d25-c7f65025118c/reports/04fbf734-6b54-4cf8-9599-58a23d2\n            acf39\nEmbedUrl  : https://app.powerbi.com/reportEmbed?reportId=04fbf734-6b54-4cf8-9599-58a23d2acf39&config=eyJjbHVzdGVyVXJsIj\n            oiaHR0cHM6Ly9XQUJJLVVTLUVBU1QyLUItUFJJTUFSWS1yZWRpcmVjdC5hbmFseXNpcy53aW5kb3dzLm5ldCIsImVtYmVkRmVhdHVyZXMiO\n            nsibW9kZXJuRW1iZWQiOnRydWV9fQ%3d%3d\nDatasetId : \n\n"
                },
                {
                    "output_type": "stream",
                    "name": "stdout",
                    "text": "Id        : abd96a50-c7be-4100-a3d6-4b411e6e24ad\nName      : 2020SU09 Blog Demo - September\nWebUrl    : https://app.powerbi.com/groups/0eecefe6-fa5b-4521-9d25-c7f65025118c/reports/abd96a50-c7be-4100-a3d6-4b411e6\n            e24ad\n"
                },
                {
                    "output_type": "stream",
                    "name": "stdout",
                    "text": "EmbedUrl  : https://app.powerbi.com/reportEmbed?reportId=abd96a50-c7be-4100-a3d6-4b411e6e24ad&config=eyJjbHVzdGVyVXJsIj\n            oiaHR0cHM6Ly9XQUJJLVVTLUVBU1QyLUItUFJJTUFSWS1yZWRpcmVjdC5hbmFseXNpcy53aW5kb3dzLm5ldCIsImVtYmVkRmVhdHVyZXMiO\n            nsibW9kZXJuRW1iZWQiOnRydWV9fQ%3d%3d\nDatasetId : \n\n"
                },
                {
                    "output_type": "stream",
                    "name": "stdout",
                    "text": "Id        : 5462b5a0-0250-481f-bec2-b0fe2abeb7e9\nName      : 2020SU11 Blog Demo - November\nWebUrl    : https://app.powerbi.com/groups/0eecefe6-fa5b-4521-9d25-c7f65025118c/reports/5462b5a0-0250-481f-bec2-b0fe2ab\n            eb7e9\n"
                },
                {
                    "output_type": "stream",
                    "name": "stdout",
                    "text": "EmbedUrl  : https://app.powerbi.com/reportEmbed?reportId=5462b5a0-0250-481f-bec2-b0fe2abeb7e9&config=eyJjbHVzdGVyVXJsIj\n            oiaHR0cHM6Ly9XQUJJLVVTLUVBU1QyLUItUFJJTUFSWS1yZWRpcmVjdC5hbmFseXNpcy53aW5kb3dzLm5ldCIsImVtYmVkRmVhdHVyZXMiO\n            nsibW9kZXJuRW1iZWQiOnRydWV9fQ%3d%3d\nDatasetId : \n\n\n\n"
                }
            ],
            "execution_count": 4
        },
        {
            "cell_type": "markdown",
            "source": [
                "### PART 3: Backup reports and datasets via Export of reports"
            ],
            "metadata": {
                "azdata_cell_guid": "6921924d-15c9-4db0-9640-708666bc6cdc",
                "tags": [
                    "hide_input"
                ]
            }
        },
        {
            "cell_type": "markdown",
            "source": [
                "\r\n",
                "Have a look at all the Power BI Workspaces you have access to."
            ],
            "metadata": {
                "azdata_cell_guid": "f73e2971-0e1a-4b93-a461-120f76fe7a80"
            }
        },
        {
            "cell_type": "code",
            "source": [
                "Get-PowerBIWorkspace | Format-Table -AutoSize"
            ],
            "metadata": {
                "azdata_cell_guid": "b81b7fd3-3697-4589-8db0-517ef04196d3",
                "tags": [
                    "hide_input"
                ]
            },
            "outputs": [],
            "execution_count": 4
        },
        {
            "cell_type": "markdown",
            "source": [
                "If you want to simply export all of the Power BI Reports from a Workspace, you could use something along the lines of the code below:"
            ],
            "metadata": {
                "azdata_cell_guid": "d574cb37-ba25-42e4-aaf0-1d8d9c3e277f"
            }
        },
        {
            "cell_type": "code",
            "source": [
                "Get-PowerBIReport -WorkspaceId (Get-PowerBIWorkspace -Name 'Prod').Id |\r\n",
                "Export-PowerBIReport"
            ],
            "metadata": {
                "azdata_cell_guid": "4e000e57-36d8-4635-a2ff-eb1e29b12450"
            },
            "outputs": [],
            "execution_count": null
        },
        {
            "cell_type": "markdown",
            "source": [
                "Run the PowerShell script you donwloaded and tell it which Workspace you want to copy."
            ],
            "metadata": {
                "azdata_cell_guid": "81b9f643-3c6c-4339-b1fd-4709f8120347"
            }
        },
        {
            "cell_type": "code",
            "source": [
                ".\\CopyWorkspaceSampleScript.ps1 -SourceWorkspaceName 'Test' -TargetWorkspaceName 'Prod'\r\n",
                "$temp_path_root = \"$PSScriptRoot\\pbi-copy-workspace-temp-storage\"\r\n",
                "$temp_dir = New-Item -Path $temp_path_root -ItemType Directory -ErrorAction SilentlyContinue\r\n",
                "\r\n",
                "# STEP 3.2: Get the reports from the source workspace\r\n",
                "$report = Get-PowerBIWorkspace | WHERE { $_.Name -eq 'BTC Testing 2' } | Get-PowerBIReport\r\n",
                "\r\n",
                "# STEP 3.3: Export the PBIX files from the source and then import them into the target workspace\r\n",
                "Foreach ($report in $reports) {\r\n",
                "   \r\n",
                "    $report_id = [guid]$report.id\r\n",
                "    $dataset_id = [guid]$report.datasetId\r\n",
                "    $report_name = $report.name+\"_\"+(Get-Date -UFormat %Y%m%d_%H%M)\r\n",
                "    $temp_path = \"$temp_path_root\\$report_name.pbix\"\r\n",
                "    \r\n",
                "    try {\r\n",
                "        Export-PowerBIReport -Id $report_id -OutFile \"$temp_path\" -ErrorAction Stop\r\n",
                "    }\r\n",
                "    catch {\r\n",
                "        Write-Warning \"= This report and dataset cannot be copied, skipping. This is expected for most workspaces.\"\r\n",
                "        continue\r\n",
                "    }\r\n",
                "}"
            ],
            "metadata": {
                "azdata_cell_guid": "a953cca9-b933-4305-9839-6f7830ccd63e",
                "tags": [
                    "hide_input"
                ]
            },
            "outputs": [],
            "execution_count": 3
        },
        {
            "cell_type": "markdown",
            "source": [
                "After the script is finished running, check to make sure all the **Reports** are showing up in the _target_ **Workspace**."
            ],
            "metadata": {
                "azdata_cell_guid": "0cb7243a-e3dc-4602-be85-9a7444a843c4"
            }
        },
        {
            "cell_type": "code",
            "source": [
                "Get-PowerBIReport -WorkspaceId (Get-PowerBIWorkspace -Name 'Prod').Id |\r\n",
                "Format-Table -AutoSize"
            ],
            "metadata": {
                "azdata_cell_guid": "755ef837-f843-4e3b-a599-f5355f632b7a",
                "tags": []
            },
            "outputs": [],
            "execution_count": 6
        }
    ]
}