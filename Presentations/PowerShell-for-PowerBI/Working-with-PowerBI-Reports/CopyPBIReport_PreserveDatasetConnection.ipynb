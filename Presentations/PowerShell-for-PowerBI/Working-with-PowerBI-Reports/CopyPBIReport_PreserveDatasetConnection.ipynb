{
    "metadata": {
        "kernelspec": {
            "name": "powershell",
            "display_name": "PowerShell",
            "language": "powershell"
        },
        "language_info": {
            "name": "powershell",
            "codemirror_mode": "shell",
            "mimetype": "text/x-sh",
            "file_extension": ".ps1"
        }
    },
    "nbformat_minor": 2,
    "nbformat": 4,
    "cells": [
        {
            "cell_type": "markdown",
            "source": [
                "<img src=\"https://app.powerbi.com/13.0.10537.111/images/PowerBI96x96.png?raw=true\" width=\"10%\">\r\n",
                "<img src=\"https://github.com/Microsoft/azuredatastudio/blob/master/samples/notebookSamples/Graphics/AzureDataStudioLogo.png?raw=true\" width=\"10%\">\r\n",
                "\r\n",
                "# Copying a Power BI Report from one Workspace to another, without overwriting the existing Dataset connection.\r\n",
                ""
            ],
            "metadata": {
                "azdata_cell_guid": "853e398d-c547-4bfe-92c5-9a42c47028bb"
            }
        },
        {
            "cell_type": "markdown",
            "source": [
                "## This technique is great for promoting a Power BI Report From **Dev** ➡ **QA** ➡ **Prod**"
            ],
            "metadata": {
                "azdata_cell_guid": "09eea21e-7c82-4216-aff3-951c6510ef39"
            }
        },
        {
            "cell_type": "markdown",
            "source": [
                "First things first, Login to the tenant you need to work with."
            ],
            "metadata": {
                "azdata_cell_guid": "bdba884c-81b6-49af-b120-0ce529ed4d8d"
            }
        },
        {
            "cell_type": "code",
            "source": [
                "Login-PowerBI"
            ],
            "metadata": {
                "azdata_cell_guid": "4e1b619c-629d-4579-ad26-1095967e7d99"
            },
            "outputs": [],
            "execution_count": 2
        },
        {
            "cell_type": "markdown",
            "source": [
                "You will need to know 4 things in order to make this work:\r\n",
                "\r\n",
                "+ The name of the Workspace in which your existing _source_ Power BI Report resides\r\n",
                "+ The name of the existing Power BI Report in your _source_ Workspace\r\n",
                "+ The name of the Workspace in which your existing _target_ Power BI Report resides\r\n",
                "+ The name of the existing Power BI Report in your _target_ Workspace\r\n",
                "\r\n",
                "The script will handle figuring out the underlying Dataset of the _target_ report and handle everything else for you."
            ],
            "metadata": {
                "azdata_cell_guid": "bc27f11c-62bb-4e46-bb9e-2de63b8d4c27"
            }
        },
        {
            "cell_type": "code",
            "source": [
                "$source_workspace_ID = (Get-PowerBIWorkspace -Name 'QA-Workspace').Id\r\n",
                "$report = Get-PowerBIReport -Name 'Regional Sales' -WorkspaceId $source_workspace_ID\r\n",
                "$target_workspace_ID = (Get-PowerBIWorkspace -Name 'Prod-Workspace').Id\r\n",
                "$targetReport = Get-PowerBIReport -Name 'Regional Sales' -WorkspaceId $target_workspace_ID\r\n",
                "\r\n",
                "Copy-PowerBIReport -Report $report -WorkspaceId $source_workspace_ID -TargetWorkspaceId $target_workspace_ID -TargetDatasetId ($targetReport).DatasetId -OutVariable NewReport"
            ],
            "metadata": {
                "azdata_cell_guid": "ff41490e-ffbf-41d5-a3c4-c1f3cffd51d0"
            },
            "outputs": [],
            "execution_count": null
        },
        {
            "cell_type": "markdown",
            "source": [
                "Once you're done deploying the new version of the report, you will still have the old version of the report in the _target_ wortkspace.  To remove that old report, you can use the `Remove-PowerBIReport` cmdlet contributed by Caroline Bell."
            ],
            "metadata": {
                "azdata_cell_guid": "acc6b7f0-d936-4712-80e3-c5ae11ec7953"
            }
        },
        {
            "cell_type": "code",
            "source": [
                "Remove-PowerBIReport -WorkspaceId $target_workspace_ID -Id $targetReport.Id"
            ],
            "metadata": {
                "azdata_cell_guid": "c7e87eec-16ca-4fb0-a5e5-4d47c263bddc"
            },
            "outputs": [],
            "execution_count": null
        },
        {
            "cell_type": "markdown",
            "source": [
                "Prior to the addition of the `Remove-PowerBIReport` cmdlet, you needed to use the `Invoke-PowerBIRestMethod` cmdlet and pass it the URL of the report you wanted to delete.  This technique may be important to know for future object types, for example, like dataflows."
            ],
            "metadata": {
                "azdata_cell_guid": "a7acadf6-5521-45da-adae-ac87e89a35fe"
            }
        },
        {
            "cell_type": "code",
            "source": [
                "<# Now to remove the old version of the report in the Prod workspace #>\r\n",
                "#$url = 'https://api.powerbi.com/v1.0/myorg/groups/' + $target_workspace_ID + '/reports/' + $targetReport.Id\r\n",
                "Invoke-PowerBIRestMethod -Method Delete -Url $url"
            ],
            "metadata": {
                "azdata_cell_guid": "cc49bafc-cd3a-4a39-9b77-e5060437b807"
            },
            "outputs": [],
            "execution_count": null
        },
        {
            "cell_type": "markdown",
            "source": [
                "## You can contribute 👍\r\n",
                "\r\n",
                "If you would like to contribute a new command or improve an existing command, visit the project repo on Github: https://github.com/Microsoft/powerbi-powershell#contributing"
            ],
            "metadata": {
                "azdata_cell_guid": "09c619f3-8ae0-4b90-b3d6-bda05160fa1a"
            }
        }
    ]
}