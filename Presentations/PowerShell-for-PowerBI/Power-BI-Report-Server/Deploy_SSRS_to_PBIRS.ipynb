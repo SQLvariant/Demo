{
    "metadata": {
        "kernelspec": {
            "name": "powershell",
            "display_name": "PowerShell",
            "language": "powershell"
        },
        "language_info": {
            "name": "powershell",
            "codemirror_mode": "shell",
            "mimetype": "text/x-sh",
            "file_extension": ".ps1"
        }
    },
    "nbformat_minor": 2,
    "nbformat": 4,
    "cells": [
        {
            "cell_type": "code",
            "source": [
                "Get-Help -examples Publish-RsProject"
            ],
            "metadata": {
                "azdata_cell_guid": "0170adde-0c43-405c-9a93-2e29aac17130"
            },
            "outputs": [
                {
                    "output_type": "stream",
                    "name": "stdout",
                    "text": "\nNAME\n    Publish-RsProject\n    \nSYNOPSIS\n    This script deploys a Reporting Services project to a Power BI Report Server.\n    \n    \n    -------------------------- EXAMPLE 1 --------------------------\n    \n    PS C:\\>Get-RsDeploymentConfig -ProjectFile 'C:\\Users\\Aaron\\source\\repos\\Finance\\Financial \n    Reports\\SSRS_FR\\SSRS_FR.rptproj' |\n    \n    Add-Member -PassThru -MemberType NoteProperty -Name ReportPortal -Value 'http://localhost/PBIRSportal/' |\n    Publish-RsProject\n    \n    Description\n    -----------\n    Get-RsDeploymentConfig prompts the user to select which deployment configuration to use from \n    the 'C:\\Users\\Aaron\\source\\repos\\Finance\\Financial Reports\\SSRS_FR\\SSRS_FR.rptproj' project file.  These settings \n    are piped to the Add-Member where the ReportPortal property is added and set to 'http://localhost/PBIRSportal/'.\n    The settings are then piped to the Publish-RsProject function, which deploys all project files using all \n    applicable \n    settings from the deployment configuration chosen.\n    \n    \n    \n    \n    -------------------------- EXAMPLE 2 --------------------------\n    \n    PS C:\\>$RSConfig = Get-RsDeploymentConfig -RsProjectFile 'C:\\Users\\Aaron\\source\\repos\\Financial \n    Reports\\SSRS_FR\\SSRS_FR.rptproj' -ConfigurationToUse Dev01\n    \n    Add-Member -PassThru -MemberType NoteProperty -Name ReportPortal -Value 'http://localhost/PBIRSportal/'\n    $RSConfig | Publish-RsProject\n    \n    Description\n    -----------\n    Retrieves all deployment settings for the 'Dev01' deployment configuration, adds a NoteProperty for the \n    ReportPortal to \n    deploy to, and then deploys all the project files by calling Publish-RsProject and passing in all the settings in \n    the $RSConfig variable.\n    \n    \n    \n    \n    -------------------------- EXAMPLE 3 --------------------------\n    \n    PS C:\\>Publish-RsProject -TargetServerURL 'http://localhost/PBIRServer/' -ReportPortal \n    'http://localhost/PBIRSportal/' -TargetReportFolder /Finance -TargetDatasourceFolder '/Finance/Data Sources' \n    -TargetDatasetFolder /Finance/DataSets -RsProjectFolder 'C:\\Users\\Aaron\\source\\repos\\Financial Reports\\SSRS_FR\\'\n    \n    Description\n    -----------\n    Deploys the project files found in the 'C:\\Users\\Aaron\\source\\repos\\Financial Reports\\SSRS_FR\\' to the target \n    locations \n    specified in the parameters list.  Use this option when you want to deploy to a location not already listed in \n    the .rptproj project file.\n    \n    \n    \n    \n\n\n\n"
                }
            ],
            "execution_count": 4
        },
        {
            "cell_type": "code",
            "source": [
                "Get-RsDeploymentConfig -RsProjectFile 'C:\\temp\\SQLServerPerformanceDashboardReportingSolution\\SQL Server Performance Dashboard\\SQL Server Performance Dashboard.rptproj'"
            ],
            "metadata": {
                "azdata_cell_guid": "3acbaea3-c415-4ccb-a98d-5290d1e2f061"
            },
            "outputs": [
                {
                    "name": "stdout",
                    "text": "\n\nFullPath               : DebugLocal\nOverwriteDatasets      : False\nOverwriteDataSources   : False\nTargetReportFolder     : SQL Server Performance Dashboard\nTargetDatasetFolder    : Datasets\nTargetDatasourceFolder : Data Sources\nTargetReportPartFolder : Report Parts\nTargetServerURL        : \nRsProjectFolder        : C:\\temp\\SQLServerPerformanceDashboardReportingSolution\\SQL Server Performance Dashboard\n\n\n\n",
                    "output_type": "stream"
                }
            ],
            "execution_count": 5
        },
        {
            "cell_type": "markdown",
            "source": [
                "When we grab the config file, we'll need to add a property for the Report Portal URL, because the <span style=\"color: rgb(139, 0, 0); font-family: Consolas, &quot;Courier New&quot;, monospace; font-size: 12px; white-space: pre;\">.rptproj</span> file just doesn't include that info."
            ],
            "metadata": {
                "azdata_cell_guid": "9345ee57-99fc-4a3b-b109-103b541946b6"
            }
        },
        {
            "cell_type": "code",
            "source": [
                "$RSConfig = Get-RsDeploymentConfig -ConfigurationToUse Release -RsProjectFile 'C:\\temp\\SQLServerPerformanceDashboardReportingSolution\\SQL Server Performance Dashboard\\SQL Server Performance Dashboard.rptproj' |\r\n",
                "Add-Member -PassThru -MemberType NoteProperty -Name ReportPortal -Value 'http://localhost/Reports/'"
            ],
            "metadata": {
                "azdata_cell_guid": "176a49f6-c7bf-4996-8c8b-6bc0587f508a"
            },
            "outputs": [
                {
                    "name": "stdout",
                    "text": "",
                    "output_type": "stream"
                }
            ],
            "execution_count": 16
        },
        {
            "cell_type": "markdown",
            "source": [
                "Let's just take a look at the config, before we try to deploy anything"
            ],
            "metadata": {
                "azdata_cell_guid": "e09daa6d-8c80-44ed-889b-85957d350052"
            }
        },
        {
            "cell_type": "code",
            "source": [
                "$RSConfig"
            ],
            "metadata": {
                "azdata_cell_guid": "fed2f013-9cb8-4a93-8c70-e16c2783de62"
            },
            "outputs": [
                {
                    "name": "stdout",
                    "text": "\n\nFullPath               : Release\nOverwriteDatasets      : False\nOverwriteDataSources   : False\nTargetReportFolder     : SQL Server Performance Dashboard\nTargetDatasetFolder    : Datasets\nTargetDatasourceFolder : Data Sources\nTargetReportPartFolder : Report Parts\nTargetServerURL        : http://localhost/ReportServer/\nRsProjectFolder        : C:\\temp\\SQLServerPerformanceDashboardReportingSolution\\SQL Server Performance Dashboard\nReportPortal           : http://localhost/Reports/\n\n\n\n",
                    "output_type": "stream"
                }
            ],
            "execution_count": 17
        },
        {
            "cell_type": "code",
            "source": [
                "$RSConfig.TargetServerURL = 'http://localhost/ReportServer/'\r\n",
                "$RSConfig.TargetReportFolder = '/CDW Insights'"
            ],
            "metadata": {
                "azdata_cell_guid": "8d91a70c-e4c6-4302-8af8-6bca59513c3e"
            },
            "outputs": [
                {
                    "name": "stdout",
                    "text": "",
                    "output_type": "stream"
                }
            ],
            "execution_count": 28
        },
        {
            "cell_type": "code",
            "source": [
                "$RSConfig | Publish-RsProject"
            ],
            "metadata": {
                "azdata_cell_guid": "8abb9a52-99e1-4057-b788-21b1416d29e7"
            },
            "outputs": [
                {
                    "name": "stdout",
                    "text": "$RsProjectFolder = 'C:\\temp\\SQLServerPerformanceDashboardReportingSolution\\SQL Server Performance Dashboard' being used is\n    This deployment is going to happen using the following settings...\n    \n\n\nFullPath               : Release\nOverwriteDatasets      : False\nOverwriteDataSources   : False\nTargetReportFolder     : CDW Insights\nTargetDatasetFolder    : Datasets\nTargetDatasourceFolder : Data Sources\nTargetReportPartFolder : Report Parts\nTargetServerURL        : http://localhost/ReportServer/\nRsProjectFolder        : C:\\temp\\SQLServerPerformanceDashboardReportingSolution\\SQL Server Performance Dashboard\nReportPortal           : http://localhost/Reports/\n\n\n\n\n    Beginning deployment.\n    Building folder structures...\n    \n",
                    "output_type": "stream"
                },
                {
                    "name": "stdout",
                    "text": "WARNING: Folder /CDW Insights does not exist\nVERBOSE: Making call to http://localhost/Reports/api/v2.0/me to create a session...\n",
                    "output_type": "stream"
                },
                {
                    "name": "stdout",
                    "text": "VERBOSE: Reading XSRF Token cookie...\nVERBOSE: Decoding XSRF Token and setting it as a header of the session...\nVERBOSE: Creating folder /CDW Insights...\n",
                    "output_type": "stream"
                },
                {
                    "name": "stdout",
                    "text": "VERBOSE: Folder /CDW Insights was created successfully!\n\n\n@odata.context : http://localhost/Reports/api/v2.0/$metadata#Folders/$entity\nId             : c53d8b7b-51c0-4683-952d-b655db62d2fb\nName           : CDW Insights\nDescription    : \nPath           : /CDW Insights\nType           : Folder\nHidden         : False\nSize           : 0\nModifiedBy     : NORTHAMERICA\\aanelson\nModifiedDate   : 2021-04-28T10:09:14.927-04:00\nCreatedBy      : NORTHAMERICA\\aanelson\nCreatedDate    : 2021-04-28T10:09:14.927-04:00\nParentFolderId : 39c89991-7adf-4232-8840-21346ecd101b\nIsFavorite     : False\nContentType    : \nContent        : \nRoles          : {}\n\n",
                    "output_type": "stream"
                },
                {
                    "name": "stdout",
                    "text": "\n\n\n",
                    "output_type": "stream"
                },
                {
                    "name": "stdout",
                    "text": "Type   Name         Size CreatedBy             CreatedDate                  ModifiedBy            ModifiedDate         \n----   ----         ---- ---------             -----------                  ----------            ------------         \nFolder Data Sources    0 NORTHAMERICA\\aanelson 2020-11-02T13:28:11.82-05:00 NORTHAMERICA\\aanelson 2020-11-02T13:28:1...\n\n\n",
                    "output_type": "stream"
                },
                {
                    "name": "stdout",
                    "text": "\nType   Name     Size CreatedBy             CreatedDate                   ModifiedBy            ModifiedDate            \n----   ----     ---- ---------             -----------                   ----------            ------------            \nFolder Datasets    0 NORTHAMERICA\\aanelson 2020-11-02T13:28:16.463-05:00 NORTHAMERICA\\aanelson 2020-11-02T13:28:16.4...\n\n\n\n    Deploying Data Sources to /Data Sources...\n    \n\n    Deploying DataSets to /Datasets...\n    \nDeploying the report files to /CDW Insights...\n    \n",
                    "output_type": "stream"
                },
                {
                    "name": "stdout",
                    "text": "database_overview\n",
                    "output_type": "stream"
                },
                {
                    "name": "stdout",
                    "text": "database_storage_report\n",
                    "output_type": "stream"
                },
                {
                    "name": "stdout",
                    "text": "historical_io\n",
                    "output_type": "stream"
                },
                {
                    "name": "stdout",
                    "text": "historical_waits\n",
                    "output_type": "stream"
                },
                {
                    "name": "stdout",
                    "text": "missing_indexes\n",
                    "output_type": "stream"
                },
                {
                    "name": "stdout",
                    "text": "missing_index_from_showplan\n",
                    "output_type": "stream"
                },
                {
                    "name": "stdout",
                    "text": "page_details\n",
                    "output_type": "stream"
                },
                {
                    "name": "stdout",
                    "text": "WARNING: The chart 'chart1' and the rectangle 'rectangle7' overlap. Overlapping report items are not supported in all \nrenderers.\nperformance_dashboard_main\n",
                    "output_type": "stream"
                },
                {
                    "name": "stdout",
                    "text": "plan_guide\n",
                    "output_type": "stream"
                },
                {
                    "name": "stdout",
                    "text": "WARNING: The rectangle 'rectangle6' and the rectangle 'rectangle7' overlap. Overlapping report items are not supported \nin all renderers.\nquery_plan\n",
                    "output_type": "stream"
                },
                {
                    "name": "stdout",
                    "text": "query_stats\n",
                    "output_type": "stream"
                },
                {
                    "name": "stdout",
                    "text": "query_stats_details\n",
                    "output_type": "stream"
                },
                {
                    "name": "stdout",
                    "text": "recent_cpu\n",
                    "output_type": "stream"
                },
                {
                    "name": "stdout",
                    "text": "requests_overview\n",
                    "output_type": "stream"
                },
                {
                    "name": "stdout",
                    "text": "sessions_overview\n",
                    "output_type": "stream"
                },
                {
                    "name": "stdout",
                    "text": "session_details\n",
                    "output_type": "stream"
                },
                {
                    "name": "stdout",
                    "text": "traces\n",
                    "output_type": "stream"
                },
                {
                    "name": "stdout",
                    "text": "wait_blocking\n",
                    "output_type": "stream"
                },
                {
                    "name": "stdout",
                    "text": "wait_buffer_io\n",
                    "output_type": "stream"
                },
                {
                    "name": "stdout",
                    "text": "wait_buflatch\n",
                    "output_type": "stream"
                },
                {
                    "name": "stdout",
                    "text": "wait_generic\n",
                    "output_type": "stream"
                },
                {
                    "name": "stdout",
                    "text": "wait_latch\n",
                    "output_type": "stream"
                },
                {
                    "name": "stdout",
                    "text": "",
                    "output_type": "stream"
                }
            ],
            "execution_count": 25
        },
        {
            "cell_type": "markdown",
            "source": [
                "Take a look and make sure all of our reports got deployed"
            ],
            "metadata": {
                "azdata_cell_guid": "d9681d7f-4f7b-4062-bb63-a034ab6dfc61"
            }
        },
        {
            "cell_type": "code",
            "source": [
                "Get-RsFolderContent -ReportServerUri $RSConfig.TargetServerURL -RsFolder $RSConfig.TargetReportFolder |\r\n",
                "Format-Table"
            ],
            "metadata": {
                "azdata_cell_guid": "f5a89aa9-4076-43ce-88d7-6a54b5337c12"
            },
            "outputs": [
                {
                    "name": "stdout",
                    "text": "\nID                                   Name                        Path                                      VirtualPath\n--                                   ----                        ----                                      -----------\n09245381-0b5a-41f1-874e-fd50b5de644d database_overview           /CDW Insights/database_overview                      \n02c696eb-59bd-4f31-9760-00cf52f05fc6 database_storage_report     /CDW Insights/database_storage_report                \n5eeebf2f-3259-49c0-b76e-2c4a140933d1 historical_io               /CDW Insights/historical_io                          \n01a72287-2d85-412f-8a7f-ab03c17aa7de historical_waits            /CDW Insights/historical_waits                       \ncdd56cfc-71b9-4ac4-a64e-d9301fbcbadf missing_index_from_showplan /CDW Insights/missing_index_from_showplan            \nbf9defcd-6d9c-4386-b3c3-4cf70acf33f9 missing_indexes             /CDW Insights/missing_indexes                        \n7231f330-2d8a-4bc9-a3b1-141342c09d0e page_details                /CDW Insights/page_details                           \n40a532b2-cf71-4ba5-b6dd-e2f0755d2edf performance_dashboard_main  /CDW Insights/performance_dashboard_main             \n4aa72cae-b2ce-410b-b867-0a84cc84883f plan_guide                  /CDW Insights/plan_guide                             \nd270048a-feb8-4161-a41d-9febf1c97ee0 query_plan                  /CDW Insights/query_plan                             \n15b2a885-f3c4-433c-b6e5-f9defefd27cc query_stats                 /CDW Insights/query_stats                            \nc489f253-7261-4f29-8bea-40d105e2664e query_stats_details         /CDW Insights/query_stats_details                    \n062f34f8-f3ec-4748-93c4-c249488a8139 recent_cpu                  /CDW Insights/recent_cpu                             \n94cb6d10-3767-4d90-9b14-9347ed7620d2 requests_overview           /CDW Insights/requests_overview                      \nfb319267-d1cc-40e4-984a-cc20784ddfa0 session_details             /CDW Insights/session_details                        \n3a12fea0-4568-4a8e-983f-9b801ee8d3e8 sessions_overview           /CDW Insights/sessions_overview                      \n7aefd75c-dd87-4cd6-b1f6-8a72d7e74aa7 traces                      /CDW Insights/traces                                 \n745ef2b0-fed2-484f-94d5-65e5b52d0797 wait_blocking               /CDW Insights/wait_blocking                          \nd88a5711-aeae-4c01-98c4-1147c35143dd wait_buffer_io              /CDW Insights/wait_buffer_io                         \nd74ad1b1-b09c-4f7c-979b-817c04bff598 wait_buflatch               /CDW Insights/wait_buflatch                          \n91b8bc2a-1826-4e2e-bd4d-f2d617787ce5 wait_generic                /CDW Insights/wait_generic                           \ne3ffcf3a-1fc6-474c-aa7a-9c977e3afbf7 wait_latch                  /CDW Insights/wait_latch                             \n\n\n",
                    "output_type": "stream"
                }
            ],
            "execution_count": 29
        }
    ]
}