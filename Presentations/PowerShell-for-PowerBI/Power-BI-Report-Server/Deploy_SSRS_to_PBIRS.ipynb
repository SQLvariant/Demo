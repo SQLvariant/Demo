{
    "metadata": {
        "kernelspec": {
            "name": "powershell",
            "display_name": "PowerShell",
            "language": "powershell"
        },
        "language_info": {
            "name": "powershell",
            "codemirror_mode": "shell",
            "mimetype": "text/x-sh",
            "file_extension": ".ps1"
        }
    },
    "nbformat_minor": 2,
    "nbformat": 4,
    "cells": [
        {
            "cell_type": "code",
            "source": [
                "Get-RsDeploymentConfig -ConfigToUse Release |\r\n",
                "Publish-RsProject\r\n",
                ""
            ],
            "metadata": {
                "azdata_cell_guid": "cf231417-0165-42d8-90ac-0dc6356ce4ee"
            },
            "outputs": [
                {
                    "output_type": "stream",
                    "name": "stdout",
                    "text": ""
                }
            ],
            "execution_count": 1
        },
        {
            "cell_type": "code",
            "source": [
                "get-help -examples Publish-RsProject"
            ],
            "metadata": {
                "azdata_cell_guid": "0170adde-0c43-405c-9a93-2e29aac17130"
            },
            "outputs": [
                {
                    "output_type": "stream",
                    "name": "stdout",
                    "text": "\nNAME\n    Publish-RsProject\n    \nSYNOPSIS\n    This script deploys a Reporting Services project to a Power BI Report Server.\n    \n    \n    -------------------------- EXAMPLE 1 --------------------------\n    \n    PS C:\\>Get-RsDeploymentConfig -ProjectFile 'C:\\Users\\Aaron\\source\\repos\\Finance\\Financial \n    Reports\\SSRS_FR\\SSRS_FR.rptproj' |\n    \n    Add-Member -PassThru -MemberType NoteProperty -Name ReportPortal -Value 'http://localhost/PBIRSportal/' |\n    Publish-RsProject\n    \n    Description\n    -----------\n    Get-RsDeploymentConfig prompts the user to select which deployment configuration to use from \n    the 'C:\\Users\\Aaron\\source\\repos\\Finance\\Financial Reports\\SSRS_FR\\SSRS_FR.rptproj' project file.  These settings \n    are piped to the Add-Member where the ReportPortal property is added and set to 'http://localhost/PBIRSportal/'.\n    The settings are then piped to the Publish-RsProject function, which deploys all project files using all \n    applicable \n    settings from the deployment configuration chosen.\n    \n    \n    \n    \n    -------------------------- EXAMPLE 2 --------------------------\n    \n    PS C:\\>$RSConfig = Get-RsDeploymentConfig -RsProjectFile 'C:\\Users\\Aaron\\source\\repos\\Financial \n    Reports\\SSRS_FR\\SSRS_FR.rptproj' -ConfigurationToUse Dev01\n    \n    Add-Member -PassThru -MemberType NoteProperty -Name ReportPortal -Value 'http://localhost/PBIRSportal/'\n    $RSConfig | Publish-RsProject\n    \n    Description\n    -----------\n    Retrieves all deployment settings for the 'Dev01' deployment configuration, adds a NoteProperty for the \n    ReportPortal to \n    deploy to, and then deploys all the project files by calling Publish-RsProject and passing in all the settings in \n    the $RSConfig variable.\n    \n    \n    \n    \n    -------------------------- EXAMPLE 3 --------------------------\n    \n    PS C:\\>Publish-RsProject -TargetServerURL 'http://localhost/PBIRServer/' -ReportPortal \n    'http://localhost/PBIRSportal/' -TargetReportFolder /Finance -TargetDatasourceFolder '/Finance/Data Sources' \n    -TargetDatasetFolder /Finance/DataSets -RsProjectFolder 'C:\\Users\\Aaron\\source\\repos\\Financial Reports\\SSRS_FR\\'\n    \n    Description\n    -----------\n    Deploys the project files found in the 'C:\\Users\\Aaron\\source\\repos\\Financial Reports\\SSRS_FR\\' to the target \n    locations \n    specified in the parameters list.  Use this option when you want to deploy to a location not already listed in \n    the .rptproj project file.\n    \n    \n    \n    \n\n\n\n"
                }
            ],
            "execution_count": 4
        },
        {
            "cell_type": "code",
            "source": [
                "foreach ($Workspace in Get-PowerBIWorkspace -Scope Organization -All ) \r\n",
                "{\r\n",
                "    get-powerbireport -workspace $Workspace | Export-PowerBIReport \r\n",
                "\r\n",
                "    dir -filter *.pbix | foreach {\r\n",
                "    new-powerbirepot \r\n",
                "    }\n",
                "}    "
            ],
            "metadata": {
                "azdata_cell_guid": "7a4da0fb-c6a3-475f-8ea2-b64778cb3771",
                "tags": []
            },
            "outputs": [],
            "execution_count": null
        }
    ]
}