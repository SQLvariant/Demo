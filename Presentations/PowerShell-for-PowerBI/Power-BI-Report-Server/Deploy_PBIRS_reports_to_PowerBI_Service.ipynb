{
    "metadata": {
        "kernelspec": {
            "name": "powershell",
            "display_name": "PowerShell",
            "language": "powershell"
        },
        "language_info": {
            "name": "powershell",
            "codemirror_mode": "shell",
            "mimetype": "text/x-sh",
            "file_extension": ".ps1"
        }
    },
    "nbformat_minor": 2,
    "nbformat": 4,
    "cells": [
        {
            "cell_type": "markdown",
            "source": [
                "<img src=\"https://github.com/microsoft/Reporting-Services/blob/master/Docs/SSRS.PNG?raw=true\" width=\"10%\">\r\n",
                "<img src=\"https://github.com/Microsoft/azuredatastudio/blob/master/samples/notebookSamples/Graphics/AzureDataStudioLogo.png?raw=true\" width=\"10%\">\r\n",
                "\r\n",
                "# This PowerShell Notebook will walk you through how to download Power BI reports from a PBIRS server and deploy them to the Power BI service."
            ],
            "metadata": {
                "azdata_cell_guid": "b40c129c-d8f1-4dc8-a1c3-0e964ee9e35b"
            }
        },
        {
            "cell_type": "markdown",
            "source": [
                "If the ReportingServicesTools and/or MicrosoftPowerBIMgmt module are not present, download the modules from the PowerShell Gallery and load it into the current session."
            ],
            "metadata": {
                "azdata_cell_guid": "4c68fd69-098d-4c38-a17d-6c5bce10cc6c"
            }
        },
        {
            "cell_type": "code",
            "source": [
                "try {Import-Module ReportingServicesTools -ErrorAction Stop} catch {Install-Module ReportingServicesTools -Scope CurrentUser } finally {Import-Module ReportingServicesTools}\r\n",
                "try {Import-Module MicrosoftPowerBIMgmt -ErrorAction Stop} catch {Install-Module MicrosoftPowerBIMgmt -Scope CurrentUser } finally {Import-Module MicrosoftPowerBIMgmt}"
            ],
            "metadata": {
                "azdata_cell_guid": "39074972-9f71-4ca7-b0e5-9893ececd117"
            },
            "outputs": [
                {
                    "name": "stdout",
                    "text": "",
                    "output_type": "stream"
                }
            ],
            "execution_count": 1
        },
        {
            "cell_type": "markdown",
            "source": [
                "Taking a look at your Power BI Reports"
            ],
            "metadata": {
                "azdata_cell_guid": "7dcb72fc-b378-4eef-9909-35fd1aadd2ab"
            }
        },
        {
            "cell_type": "code",
            "source": [
                "Get-RsRestFolderContent -RsFolder / -Recurse | WHERE { $_.Type -eq 'PowerBIReport' } | Format-Table -AutoSize"
            ],
            "metadata": {
                "azdata_cell_guid": "d7750ed1-49dd-458c-9aec-8fc68bac21aa"
            },
            "outputs": [
                {
                    "name": "stdout",
                    "text": "\nType          Name                              Size ModifiedBy            ModifiedDate                  Hidden Path   \n----          ----                              ---- ----------            ------------                  ------ ----   \nFolder        Data Sources                         0 Aaron                 2020-11-02T13:28:11.82-05:00   False /Dat...\nFolder        Datasets                             0 Aaron                 2020-11-02T13:28:16.463-05:00  False /Dat...\nReport        emptyReport2                      9320 Aaron                 2021-01-15T13:37:17.783-05:00  False /emp...\nPowerBIReport ReportCatalog                    69839 Aaron                 2021-01-12T14:40:01.5-05:00    False /Rep...\nFolder        SQL Server Performance Dashboard     0 Aaron                 2020-11-02T13:30:12.333-05:00  False /SQL...\n\n\n",
                    "output_type": "stream"
                }
            ],
            "execution_count": 3
        },
        {
            "cell_type": "markdown",
            "source": [
                "Before we get started exporting, let's decide on a local directory where we want to store these Power BI reports when we download them from our PBIRS instance"
            ],
            "metadata": {
                "azdata_cell_guid": "31e9a00d-2989-40ea-85b3-8781d458d74f"
            }
        },
        {
            "cell_type": "code",
            "source": [
                "$PBIReports = \"c:\\temp\\PBIRS-to-PowerBI-service\\\""
            ],
            "metadata": {
                "azdata_cell_guid": "c58b7bba-2f58-44f4-9abf-63f651ec1934"
            },
            "outputs": [
                {
                    "name": "stdout",
                    "text": "",
                    "output_type": "stream"
                }
            ],
            "execution_count": 11
        },
        {
            "cell_type": "markdown",
            "source": [
                "Retrieving the Power BI reports from your Power BI Reports Server"
            ],
            "metadata": {
                "azdata_cell_guid": "64795f34-ff38-42b8-a286-01c0060dfed5"
            }
        },
        {
            "cell_type": "code",
            "source": [
                "Get-RsRestFolderContent -RsFolder / -Recurse | WHERE { $_.Type -eq 'PowerBIReport' } | \r\n",
                "foreach {\r\n",
                "Out-RsRestCatalogItem -RsItem \"$($_.Path)\" -Destination $PBIReports\r\n",
                "}"
            ],
            "metadata": {
                "azdata_cell_guid": "b745dd0b-96f4-46f4-be4c-8ba5aa271f59",
                "tags": []
            },
            "outputs": [
                {
                    "name": "stdout",
                    "text": "",
                    "output_type": "stream"
                }
            ],
            "execution_count": 13
        },
        {
            "cell_type": "markdown",
            "source": [
                "Check to make sure you can see all the Power BI reports you were expecting"
            ],
            "metadata": {
                "azdata_cell_guid": "abfdfb65-9bbd-4f47-9c51-795091b50212"
            }
        },
        {
            "cell_type": "code",
            "source": [
                "dir $PBIReports"
            ],
            "metadata": {
                "azdata_cell_guid": "9a45b1b1-f65c-4cf8-888a-2a7ac1758675"
            },
            "outputs": [
                {
                    "name": "stdout",
                    "text": "\n\n    Directory: C:\\temp\\PBIRS-to-PowerBI-service\n\n\nMode                 LastWriteTime         Length Name                                                                 \n----                 -------------         ------ ----                                                                 \n-a----         1/19/2021   3:28 PM          69839 ReportCatalog.pbix                                                   \n\n\n",
                    "output_type": "stream"
                }
            ],
            "execution_count": 14
        },
        {
            "cell_type": "markdown",
            "source": [
                "Once you have all the reports downloaded from your PBIRS instance, let's login to the Power BI service and start uploading them to a Workspace"
            ],
            "metadata": {
                "azdata_cell_guid": "f466dc26-d225-4ff9-a451-ff842ad9d564"
            }
        },
        {
            "cell_type": "code",
            "source": [
                "Login-PowerBI"
            ],
            "metadata": {
                "azdata_cell_guid": "467bc9ad-114a-43b7-9758-ece5bce4f405"
            },
            "outputs": [],
            "execution_count": null
        },
        {
            "cell_type": "code",
            "source": [
                "New-PowerBIWorkspace -Name PBIRS-to-PowerBI-service"
            ],
            "metadata": {
                "azdata_cell_guid": "a1094b40-f7b9-4224-829e-e9dd3125dc51"
            },
            "outputs": [
                {
                    "name": "stdout",
                    "text": "\n\nId                    : abcd3028-830f-4ff2-b70e-6c730bb552fc\nName                  : PBIRS-to-PowerBI-service\nIsReadOnly            : False\nIsOrphaned            : False\nIsOnDedicatedCapacity : False\nCapacityId            : \n\n\n\n",
                    "output_type": "stream"
                }
            ],
            "execution_count": 16
        },
        {
            "cell_type": "markdown",
            "source": [
                "Now upload your .PBIX files to your PBIRS instance."
            ],
            "metadata": {
                "azdata_cell_guid": "83625910-de71-43ff-b5f3-f7bbdcc4d046"
            }
        },
        {
            "cell_type": "code",
            "source": [
                "dir $PBIReports -Filter *.PBIX | foreach {\r\n",
                "New-PowerBIReport -Path $_.FullName -Workspace (Get-PowerBIWorkspace -Name 'PBIRS-to-PowerBI-service')\r\n",
                "}"
            ],
            "metadata": {
                "azdata_cell_guid": "450f40f4-aff0-476a-9b6d-9d28d3cd6342"
            },
            "outputs": [
                {
                    "name": "stdout",
                    "text": "\n\nId        : 83899a1c-3f26-4cb7-a239-add4289a61ed\nName      : 2020SU09 Blog Demo - September\nWebUrl    : https://app.powerbi.com/groups/abcd3028-830f-4ff2-b70e-6c730bb552fc/reports/83899a1c-3f26-4cb7-a239-add4289\n            a61ed\nEmbedUrl  : https://app.powerbi.com/reportEmbed?reportId=83899a1c-3f26-4cb7-a239-add4289a61ed&config=eyJjbHVzdGVyVXJsIj\n            oiaHR0cHM6Ly9XQUJJLVVTLUVBU1QyLUItUFJJTUFSWS1yZWRpcmVjdC5hbmFseXNpcy53aW5kb3dzLm5ldCIsImVtYmVkRmVhdHVyZXMiO\n            nsibW9kZXJuRW1iZWQiOnRydWV9fQ%3d%3d\nDatasetId : \n\n",
                    "output_type": "stream"
                },
                {
                    "name": "stdout",
                    "text": "Id        : e38ddc47-edba-4aa8-8197-e862966b9c81\nName      : 2020SU11 Blog Demo - November\nWebUrl    : https://app.powerbi.com/groups/abcd3028-830f-4ff2-b70e-6c730bb552fc/reports/e38ddc47-edba-4aa8-8197-e862966\n            b9c81\nEmbedUrl  : https://app.powerbi.com/reportEmbed?reportId=e38ddc47-edba-4aa8-8197-e862966b9c81&config=eyJjbHVzdGVyVXJsIj\n            oiaHR0cHM6Ly9XQUJJLVVTLUVBU1QyLUItUFJJTUFSWS1yZWRpcmVjdC5hbmFseXNpcy53aW5kb3dzLm5ldCIsImVtYmVkRmVhdHVyZXMiO\n            nsibW9kZXJuRW1iZWQiOnRydWV9fQ%3d%3d\nDatasetId : \n\n",
                    "output_type": "stream"
                },
                {
                    "name": "stdout",
                    "text": "Id        : a63a7df7-5034-467b-9f4d-302997234a32\nName      : ReportCatalog\nWebUrl    : https://app.powerbi.com/groups/abcd3028-830f-4ff2-b70e-6c730bb552fc/reports/a63a7df7-5034-467b-9f4d-3029972\n            34a32\nEmbedUrl  : https://app.powerbi.com/reportEmbed?reportId=a63a7df7-5034-467b-9f4d-302997234a32&config=eyJjbHVzdGVyVXJsIj\n            oiaHR0cHM6Ly9XQUJJLVVTLUVBU1QyLUItUFJJTUFSWS1yZWRpcmVjdC5hbmFseXNpcy53aW5kb3dzLm5ldCIsImVtYmVkRmVhdHVyZXMiO\n            nsibW9kZXJuRW1iZWQiOnRydWV9fQ%3d%3d\nDatasetId : \n\n\n\n",
                    "output_type": "stream"
                }
            ],
            "execution_count": 24
        }
    ]
}