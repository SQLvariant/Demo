{
    "metadata": {
        "kernelspec": {
            "name": "powershell",
            "display_name": "PowerShell",
            "language": "powershell"
        },
        "language_info": {
            "name": "powershell",
            "codemirror_mode": "shell",
            "mimetype": "text/x-sh",
            "file_extension": ".ps1"
        }
    },
    "nbformat_minor": 2,
    "nbformat": 4,
    "cells": [
        {
            "cell_type": "markdown",
            "source": [
                "<img src=\"https://github.com/microsoft/Reporting-Services/blob/master/Docs/SSRS.PNG?raw=true\" width=\"10%\">\r\n",
                "<img src=\"https://github.com/Microsoft/azuredatastudio/blob/master/samples/notebookSamples/Graphics/AzureDataStudioLogo.png?raw=true\" width=\"10%\">\r\n",
                "\r\n",
                "# This PowerShell Notebook will walk you through how to download the SQL Performance Dashboard and deploy it to an SSRS server."
            ],
            "metadata": {
                "azdata_cell_guid": "b40c129c-d8f1-4dc8-a1c3-0e964ee9e35b"
            }
        },
        {
            "cell_type": "markdown",
            "source": [
                "If the ReportingServicesTools is not present, download the ReportingServicesTools module from GitHib"
            ],
            "metadata": {
                "azdata_cell_guid": "4c68fd69-098d-4c38-a17d-6c5bce10cc6c"
            }
        },
        {
            "cell_type": "code",
            "source": [
                "try {Import-Module ReportingServicesTools -ErrorAction Stop} catch {Install-Module ReportingServicesTools -Scope CurrentUser } finally {Import-Module ReportingServicesTools}"
            ],
            "metadata": {
                "azdata_cell_guid": "39074972-9f71-4ca7-b0e5-9893ececd117"
            },
            "outputs": [
                {
                    "output_type": "stream",
                    "name": "stdout",
                    "text": ""
                }
            ],
            "execution_count": 2
        },
        {
            "cell_type": "markdown",
            "source": [
                "Setting our GitHub resources to variables, downloading, and extracting the files"
            ],
            "metadata": {
                "azdata_cell_guid": "7dcb72fc-b378-4eef-9909-35fd1aadd2ab"
            }
        },
        {
            "cell_type": "code",
            "source": [
                "$ZipURL = \"https://github.com/Microsoft/tigertoolbox/raw/master/SQL-performance-dashboard-reports/SQL%20Server%20Performance%20Dashboard%20Reporting%20Solution.zip\"\r\n",
                "$SQLURL = 'https://github.com/Microsoft/tigertoolbox/raw/master/SQL-performance-dashboard-reports/setup.sql'\r\n",
                "\r\n",
                "<# Set destination file locations #>\r\n",
                "$ZipFile = \"$($env:USERPROFILE)\\Downloads\\SQLServerPerformanceDashboardReportingSolution.zip\"\r\n",
                "$ReportsBaseFolder = 'C:\\SQL Server Performance Dashboard'\r\n",
                "$SQLFile = \"$($ReportsBaseFolder)\\Setup.SQL\"\r\n",
                "\r\n",
                "<# Start up a web client and download the .zip fole from GitHub #>\r\n",
                "$webclient = New-Object system.net.webclient\r\n",
                "$webclient.DownloadFile($ZipURL,$ZipFile)\r\n",
                "<# UnZip the Reporting Solution Zip file #>\r\n",
                "Expand-Archive $ZipFile -DestinationPath $ReportsBaseFolder\r\n",
                "\r\n",
                "<# Now that the reports are unzipped, download the SQL file to that same directory #>\r\n",
                "$webclient.DownloadFile($SQLURL,$SQLFile)"
            ],
            "metadata": {
                "azdata_cell_guid": "d7750ed1-49dd-458c-9aec-8fc68bac21aa"
            },
            "outputs": [],
            "execution_count": null
        },
        {
            "cell_type": "markdown",
            "source": [
                "Deploying the reports to our SSRS or Power BI Reports Server"
            ],
            "metadata": {
                "azdata_cell_guid": "64795f34-ff38-42b8-a286-01c0060dfed5"
            }
        },
        {
            "cell_type": "code",
            "source": [
                "<# SSRS Instance, this is where the reports will be rendered from.\r\n",
                "    You probably need to change this to something like 'http://MyReportServer/ReportServer'.  If you have a named SSRS instance 'http://MyReportServer/ReportServer_SQL2016'  #>\r\n",
                "$SSRSInstance = 'http://localhost/ReportServer'\r\n",
                "$NewSSRSReportFolder = 'SQL Server Performance Dashboard'\r\n",
                "\r\n",
                "<# Deploy the dashboard reports to the $NewSSRSReportFolder ('SQL Server Performance Dashboard') folder of an SSRS instance\r\n",
                "    Note: We are creating the folder using New-RsFolder, you may need to skip this step if you’ve already run it once. #>\r\n",
                "New-RsFolder -ReportServerUri $SSRSInstance -Path / -Name $NewSSRSReportFolder\r\n",
                "\r\n",
                "Write-RsFolderContent -ReportServerUri $SSRSInstance -Path \"$($ReportsBaseFolder)\\SQL Server Performance Dashboard\\\" -Destination /$NewSSRSReportFolder\r\n",
                "    "
            ],
            "metadata": {
                "azdata_cell_guid": "b745dd0b-96f4-46f4-be4c-8ba5aa271f59"
            },
            "outputs": [],
            "execution_count": null
        },
        {
            "cell_type": "markdown",
            "source": [
                "Deploy the required SQL Queries to each instance of SQL Server you want to monitor."
            ],
            "metadata": {
                "azdata_cell_guid": "f466dc26-d225-4ff9-a451-ff842ad9d564"
            }
        },
        {
            "cell_type": "code",
            "source": [
                "foreach ($RegisteredSQLs IN dir -recurse SQLSERVER:\\SQLRegistration\\'Database Engine Server Group'\\ | where {$_.Mode -ne 'd'} )\r\n",
                "{\r\n",
                "Invoke-Sqlcmd -ServerInstance $RegisteredSQLs.Name -Database msdb -InputFile $SQLFile\r\n",
                "}"
            ],
            "metadata": {
                "azdata_cell_guid": "467bc9ad-114a-43b7-9758-ece5bce4f405"
            },
            "outputs": [],
            "execution_count": null
        },
        {
            "cell_type": "markdown",
            "source": [
                "Now go to your SSRS server and have a look at your SQL Performance Dashboard."
            ],
            "metadata": {
                "azdata_cell_guid": "83625910-de71-43ff-b5f3-f7bbdcc4d046"
            }
        },
        {
            "cell_type": "code",
            "source": [
                "<# Go to SSRS and make sure everythng works\r\n",
                "    You URL should look something like http://localhost/Reports/report/SQL%20Server%20Performance%20Dashboard/performance_dashboard_main\r\n",
                "    Continur with Setp #8 back at https://blogs.msdn.microsoft.com/sql_server_team/sql-server-performance-dashboard-reports-unleashed-for-enterprise-monitoring/  #>\r\n",
                "Start-Process \"$($SSRSInstance -replace 'Server', 's')/report/$($NewSSRSReportFolder)/performance_dashboard_main\""
            ],
            "metadata": {
                "azdata_cell_guid": "450f40f4-aff0-476a-9b6d-9d28d3cd6342"
            },
            "outputs": [],
            "execution_count": null
        }
    ]
}