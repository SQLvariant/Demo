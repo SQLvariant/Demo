{
    "metadata": {
        "kernelspec": {
            "name": "powershell",
            "display_name": "PowerShell",
            "language": "powershell"
        },
        "language_info": {
            "name": "powershell",
            "codemirror_mode": "shell",
            "mimetype": "text/x-sh",
            "file_extension": ".ps1"
        }
    },
    "nbformat_minor": 2,
    "nbformat": 4,
    "cells": [
        {
            "cell_type": "markdown",
            "source": [
                "<img src=\"https://app.powerbi.com/13.0.10537.111/images/PowerBI96x96.png?raw=true\" width=\"10%\">\r\n",
                "<img src=\"https://github.com/Microsoft/azuredatastudio/blob/master/samples/notebookSamples/Graphics/AzureDataStudioLogo.png?raw=true\" width=\"10%\">\r\n",
                "\r\n",
                "# Query a .PBIX file with DAX  PowerShell\r\n",
                ""
            ],
            "metadata": {
                "azdata_cell_guid": "6efb56cc-2eaf-42fb-b071-912d0bc9b8b1"
            }
        },
        {
            "cell_type": "markdown",
            "source": [
                "Navigate to the directory"
            ],
            "metadata": {
                "azdata_cell_guid": "5141074c-f786-4b80-9480-a8f39fde74eb"
            }
        },
        {
            "cell_type": "code",
            "source": [
                "cd \"$home\\Documents\\GitHub\\Self-Paced-Training\\Power BI\""
            ],
            "metadata": {
                "azdata_cell_guid": "49c48ef6-11d3-47a0-b33c-5ec02aa4f4ee"
            },
            "outputs": [
                {
                    "output_type": "stream",
                    "name": "stdout",
                    "text": ""
                }
            ],
            "execution_count": 2
        },
        {
            "cell_type": "markdown",
            "source": [
                "Load the Invoke-DaxQuery function into the current session"
            ],
            "metadata": {
                "azdata_cell_guid": "121c80bc-db04-40e9-a869-1a4f7ec4b16f"
            }
        },
        {
            "cell_type": "code",
            "source": [
                ". .\\Query-Dax.ps1"
            ],
            "metadata": {
                "azdata_cell_guid": "becec3d0-49e1-41fa-a9ec-0c5f8374cee6"
            },
            "outputs": [
                {
                    "output_type": "stream",
                    "name": "stdout",
                    "text": ""
                }
            ],
            "execution_count": 3
        },
        {
            "cell_type": "markdown",
            "source": [
                "Start querying"
            ],
            "metadata": {
                "azdata_cell_guid": "e62f9dae-eea6-4fd6-bfa4-6768004ea07b"
            }
        },
        {
            "cell_type": "code",
            "source": [
                "Invoke-DaxQuery -ServerAddress localhost:60443 -Database '945a65f1-fb34-4d82-b2f1-3c99958bc6ce' -DAXQuery \"EVALUATE ReportCatalogQuery\" |\r\n",
                "Format-Table -AutoSize"
            ],
            "metadata": {
                "azdata_cell_guid": "4bdd76b4-6342-4812-b075-36c4e299ad6d"
            },
            "outputs": [],
            "execution_count": null
        },
        {
            "cell_type": "markdown",
            "source": [
                "Import the Pester module.  \n",
                "⚠️IMPORTANT NOTE: This demo \\[currently\\] requires Pester v4 \\*NOT\\* v5"
            ],
            "metadata": {
                "azdata_cell_guid": "e9dfc459-e43b-4a5d-b659-8c4ae3509ca7"
            }
        },
        {
            "cell_type": "code",
            "source": [
                "Import-Module Pester -MaximumVersion 4.99.99"
            ],
            "metadata": {
                "azdata_cell_guid": "351c3e0b-0112-4ddd-90a1-37c64bbe0f43"
            },
            "outputs": [
                {
                    "output_type": "stream",
                    "name": "stdout",
                    "text": ""
                }
            ],
            "execution_count": 5
        },
        {
            "cell_type": "markdown",
            "source": [
                "## Build a Pester Test"
            ],
            "metadata": {
                "azdata_cell_guid": "a14850b7-15e9-47dc-be98-2db3ee8bade1"
            }
        },
        {
            "cell_type": "code",
            "source": [
                "$results = Invoke-DaxQuery -ServerAddress localhost:60443 -Database '945a65f1-fb34-4d82-b2f1-3c99958bc6ce' -DAXQuery \"EVALUATE ReportCatalogQuery\""
            ],
            "metadata": {
                "azdata_cell_guid": "4974944c-96ea-4c3a-9710-1bf5e6546eb1"
            },
            "outputs": [],
            "execution_count": null
        },
        {
            "cell_type": "markdown",
            "source": [
                "Run a test which compares the data in Power BI against a static value."
            ],
            "metadata": {
                "azdata_cell_guid": "90bab2e2-6575-41f8-83d3-c23c3bee8a8e"
            }
        },
        {
            "cell_type": "code",
            "source": [
                "@($results).Count | Should -Be 36"
            ],
            "metadata": {
                "azdata_cell_guid": "942a80e0-541e-4f6e-b53c-3d3d67e9963a"
            },
            "outputs": [],
            "execution_count": null
        },
        {
            "cell_type": "markdown",
            "source": [
                "## What a single Test will look like"
            ],
            "metadata": {
                "azdata_cell_guid": "1dfe19b3-3a2e-4a81-833b-0481abdd0e1b"
            }
        },
        {
            "cell_type": "code",
            "source": [
                "# Test if the config was retrieved\r\n",
                "It \"Should verify the count is correct by comparing against a static number\" {\r\n",
                "    @($results).Count | Should -Be 36\r\n",
                "}"
            ],
            "metadata": {
                "azdata_cell_guid": "71e7e0ee-9db2-4b50-af41-a20b746b6fd4"
            },
            "outputs": [],
            "execution_count": null
        }
    ]
}