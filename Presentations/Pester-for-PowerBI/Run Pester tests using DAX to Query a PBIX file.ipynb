{
    "metadata": {
        "kernelspec": {
            "name": "powershell",
            "display_name": "PowerShell",
            "language": "powershell"
        },
        "language_info": {
            "name": "powershell",
            "codemirror_mode": "shell",
            "mimetype": "text/x-sh",
            "file_extension": ".ps1"
        }
    },
    "nbformat_minor": 2,
    "nbformat": 4,
    "cells": [
        {
            "cell_type": "markdown",
            "source": [
                "<img src=\"https://app.powerbi.com/13.0.10537.111/images/PowerBI96x96.png?raw=true\" width=\"10%\">\r\n",
                "<img src=\"https://github.com/Microsoft/azuredatastudio/blob/master/samples/notebookSamples/Graphics/AzureDataStudioLogo.png?raw=true\" width=\"10%\">\r\n",
                "\r\n",
                "# Query a .PBIX file with DAX  PowerShell\r\n",
                ""
            ],
            "metadata": {
                "azdata_cell_guid": "6efb56cc-2eaf-42fb-b071-912d0bc9b8b1"
            }
        },
        {
            "cell_type": "markdown",
            "source": [
                "Navigate to the directory where you cloned this repo"
            ],
            "metadata": {
                "azdata_cell_guid": "5141074c-f786-4b80-9480-a8f39fde74eb"
            }
        },
        {
            "cell_type": "code",
            "source": [
                "cd \"$home\\Documents\\GitHub\\Demos\\Presentations\\Pester-for-PowerBI\""
            ],
            "metadata": {
                "azdata_cell_guid": "49c48ef6-11d3-47a0-b33c-5ec02aa4f4ee"
            },
            "outputs": [
                {
                    "name": "stdout",
                    "text": "",
                    "output_type": "stream"
                }
            ],
            "execution_count": 1
        },
        {
            "cell_type": "markdown",
            "source": [
                "Load the Invoke-DaxQuery function into the current session"
            ],
            "metadata": {
                "azdata_cell_guid": "121c80bc-db04-40e9-a869-1a4f7ec4b16f"
            }
        },
        {
            "cell_type": "code",
            "source": [
                ". .\\Invoke-DaxQuery.ps1"
            ],
            "metadata": {
                "azdata_cell_guid": "becec3d0-49e1-41fa-a9ec-0c5f8374cee6"
            },
            "outputs": [
                {
                    "name": "stdout",
                    "text": "",
                    "output_type": "stream"
                }
            ],
            "execution_count": 2
        },
        {
            "cell_type": "markdown",
            "source": [
                "Update the values for the `-ServerAddress` and `-Database` parameters and then start querying"
            ],
            "metadata": {
                "azdata_cell_guid": "e62f9dae-eea6-4fd6-bfa4-6768004ea07b"
            }
        },
        {
            "cell_type": "code",
            "source": [
                "Invoke-DaxQuery -ServerAddress localhost:51735 -Database '7329df10-417b-47cf-914e-9e2d4c0ed925' -Query \"EVALUATE ReportCatalog\" |\r\n",
                "Format-Table -AutoSize"
            ],
            "metadata": {
                "azdata_cell_guid": "4bdd76b4-6342-4812-b075-36c4e299ad6d"
            },
            "outputs": [],
            "execution_count": null
        },
        {
            "cell_type": "markdown",
            "source": [
                "Import the Pester module.  \n",
                "⚠️ IMPORTANT NOTE: This demo \\[currently\\] requires Pester v4 \\*NOT\\* v5"
            ],
            "metadata": {
                "azdata_cell_guid": "e9dfc459-e43b-4a5d-b659-8c4ae3509ca7"
            }
        },
        {
            "cell_type": "code",
            "source": [
                "Import-Module Pester -MaximumVersion 4.99.99"
            ],
            "metadata": {
                "azdata_cell_guid": "351c3e0b-0112-4ddd-90a1-37c64bbe0f43"
            },
            "outputs": [
                {
                    "name": "stdout",
                    "text": "",
                    "output_type": "stream"
                }
            ],
            "execution_count": 3
        },
        {
            "cell_type": "markdown",
            "source": [
                "Run a Pester Test"
            ],
            "metadata": {
                "azdata_cell_guid": "a14850b7-15e9-47dc-be98-2db3ee8bade1"
            }
        },
        {
            "cell_type": "code",
            "source": [
                "Invoke-Pester .\\Invoke-DaxQuery.Test.ps1"
            ],
            "metadata": {
                "azdata_cell_guid": "4974944c-96ea-4c3a-9710-1bf5e6546eb1"
            },
            "outputs": [
                {
                    "output_type": "stream",
                    "name": "stdout",
                    "text": "Pester v4.10.1\nExecuting all tests in '.\\Invoke-DaxQuery.Test.ps1'\n\nExecuting script .\\Invoke-DaxQuery.Test.ps1\n\n  Describing Invoke-DaxQuery\n"
                },
                {
                    "output_type": "stream",
                    "name": "stdout",
                    "text": "\n    Context Invoke a DAX Query and test the result\n      [+] Should verify the count is correct by comparing against a static number"
                },
                {
                    "output_type": "stream",
                    "name": "stdout",
                    "text": " 13ms\n      [+] Should verify the first result (row) return matches static value 7ms\nTests completed in 226ms\nTests Passed: 2, Failed: 0, Skipped: 0, Pending: 0, Inconclusive: 0 \n"
                }
            ],
            "execution_count": 7
        },
        {
            "cell_type": "markdown",
            "source": [
                "Run a test which compares the data in Power BI against the data in a SQL Server database."
            ],
            "metadata": {
                "azdata_cell_guid": "90bab2e2-6575-41f8-83d3-c23c3bee8a8e"
            }
        },
        {
            "cell_type": "code",
            "source": [
                "Invoke-Pester .\\Invoke-DaxQuery_Against_SQLResults.Test.ps1"
            ],
            "metadata": {
                "azdata_cell_guid": "942a80e0-541e-4f6e-b53c-3d3d67e9963a"
            },
            "outputs": [
                {
                    "output_type": "stream",
                    "name": "stdout",
                    "text": "Pester v4.10.1\nExecuting all tests in '.\\Invoke-DaxQuery_Against_SQLResults.Test.ps1'\n"
                },
                {
                    "output_type": "stream",
                    "name": "stdout",
                    "text": "\nExecuting script .\\Invoke-DaxQuery_Against_SQLResults.Test.ps1\n"
                },
                {
                    "output_type": "stream",
                    "name": "stdout",
                    "text": "\n  Describing Invoke-DaxQuery\n"
                },
                {
                    "output_type": "stream",
                    "name": "stdout",
                    "text": "\n    Context Invoke a DAX Query and test the result\n"
                },
                {
                    "output_type": "stream",
                    "name": "stdout",
                    "text": "      [+] Should verify the count is correct by comparing against a static number 412ms\n"
                },
                {
                    "output_type": "stream",
                    "name": "stdout",
                    "text": "      [+] Should verify the count is correct by comparing against the results of a SQL Server query 12ms\n      [+] Should verify the first result (row) return matches static value 8ms\n"
                },
                {
                    "output_type": "stream",
                    "name": "stdout",
                    "text": "Tests completed in 3.47s\nTests Passed: 3, Failed: 0, Skipped: 0, Pending: 0, Inconclusive: 0 \n"
                },
                {
                    "output_type": "stream",
                    "name": "stdout",
                    "text": ""
                }
            ],
            "execution_count": 6
        },
        {
            "cell_type": "markdown",
            "source": [
                "## Sales Exaples"
            ],
            "metadata": {
                "azdata_cell_guid": "1dfe19b3-3a2e-4a81-833b-0481abdd0e1b"
            }
        },
        {
            "cell_type": "code",
            "source": [
                "Invoke-Pester .\\Sales_TableExample.Test.ps1"
            ],
            "metadata": {
                "azdata_cell_guid": "71e7e0ee-9db2-4b50-af41-a20b746b6fd4"
            },
            "outputs": [
                {
                    "name": "stdout",
                    "text": "Pester v4.10.1\nExecuting all tests in '.\\Sales_TableExample.Test.ps1'\n",
                    "output_type": "stream"
                },
                {
                    "name": "stdout",
                    "text": "\nExecuting script .\\Sales_TableExample.Test.ps1\n",
                    "output_type": "stream"
                },
                {
                    "name": "stdout",
                    "text": "\n  Describing Invoke-DaxQuery\n",
                    "output_type": "stream"
                },
                {
                    "name": "stdout",
                    "text": "\n    Context Invoke a DAX Query and test the result\n",
                    "output_type": "stream"
                },
                {
                    "name": "stdout",
                    "text": "      [+] Should verify the count is correct by comparing against a static number 810ms\n",
                    "output_type": "stream"
                },
                {
                    "name": "stdout",
                    "text": "      [+] Should verify the [Sales Amount] is correct by comparing against a static number stored 170ms\n",
                    "output_type": "stream"
                },
                {
                    "name": "stdout",
                    "text": "      [+] Should verify the first Date[Month] is correct by comparing against a static value 158ms\n",
                    "output_type": "stream"
                },
                {
                    "name": "stdout",
                    "text": "\n  Describing Invoke-DaxQuery_FromFile\n\n    Context Invoke a DAX Query and test the result\n",
                    "output_type": "stream"
                },
                {
                    "name": "stdout",
                    "text": "      [+] Should verify the count is correct by comparing against a static number 172ms\n",
                    "output_type": "stream"
                },
                {
                    "name": "stdout",
                    "text": "      [+] Should verify the [Sales Amount] is correct by comparing against a static number stored 215ms\n",
                    "output_type": "stream"
                },
                {
                    "name": "stdout",
                    "text": "      [+] Should verify the first Date[Month] is correct by comparing against a static value 193ms\n",
                    "output_type": "stream"
                },
                {
                    "name": "stdout",
                    "text": "Tests completed in 3.45s\nTests Passed: 6, Failed: 0, Skipped: 0, Pending: 0, Inconclusive: 0 \n",
                    "output_type": "stream"
                },
                {
                    "name": "stdout",
                    "text": "",
                    "output_type": "stream"
                }
            ],
            "execution_count": 4
        },
        {
            "cell_type": "code",
            "source": [
                "Invoke-Pester .\\Sales_TableExample.Test.ps1 -TestName Invoke-DaxQuery_FromFile"
            ],
            "metadata": {
                "azdata_cell_guid": "247e4c28-25df-4b6e-b283-b077763d12fa"
            },
            "outputs": [
                {
                    "name": "stdout",
                    "text": "Pester v4.10.1\nExecuting all tests in '.\\Sales_TableExample.Test.ps1' matching test name Invoke-DaxQuery_FromFile\n\nExecuting script .\\Sales_TableExample.Test.ps1\n",
                    "output_type": "stream"
                },
                {
                    "name": "stdout",
                    "text": "\n  Describing Invoke-DaxQuery_FromFile\n\n    Context Invoke a DAX Query and test the result\n",
                    "output_type": "stream"
                },
                {
                    "name": "stdout",
                    "text": "      [+] Should verify the count is correct by comparing against a static number 177ms\n",
                    "output_type": "stream"
                },
                {
                    "name": "stdout",
                    "text": "      [+] Should verify the [Sales Amount] is correct by comparing against a static number stored 158ms\n",
                    "output_type": "stream"
                },
                {
                    "name": "stdout",
                    "text": "      [+] Should verify the first Date[Month] is correct by comparing against a static value 168ms\nTests completed in 656ms\nTests Passed: 3, Failed: 0, Skipped: 0, Pending: 0, Inconclusive: 0 \n",
                    "output_type": "stream"
                }
            ],
            "execution_count": 5
        }
    ]
}