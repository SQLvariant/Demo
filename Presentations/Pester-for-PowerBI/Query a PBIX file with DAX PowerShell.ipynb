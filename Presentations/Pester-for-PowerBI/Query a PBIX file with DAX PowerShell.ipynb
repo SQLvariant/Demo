{
    "metadata": {
        "kernelspec": {
            "name": "powershell",
            "display_name": "PowerShell",
            "language": "powershell"
        },
        "language_info": {
            "name": "powershell",
            "codemirror_mode": "shell",
            "mimetype": "text/x-sh",
            "file_extension": ".ps1"
        }
    },
    "nbformat_minor": 2,
    "nbformat": 4,
    "cells": [
        {
            "cell_type": "markdown",
            "source": [
                "<img src=\"https://app.powerbi.com/13.0.10537.111/images/PowerBI96x96.png?raw=true\" width=\"10%\">\r\n",
                "<img src=\"https://github.com/Microsoft/azuredatastudio/blob/master/samples/notebookSamples/Graphics/AzureDataStudioLogo.png?raw=true\" width=\"10%\">\r\n",
                "\r\n",
                "# Query a .PBIX file with DAX  PowerShell\r\n",
                ""
            ],
            "metadata": {
                "azdata_cell_guid": "6efb56cc-2eaf-42fb-b071-912d0bc9b8b1"
            }
        },
        {
            "cell_type": "markdown",
            "source": [
                "Navigate to the directory where you cloned this repo"
            ],
            "metadata": {
                "azdata_cell_guid": "5141074c-f786-4b80-9480-a8f39fde74eb"
            }
        },
        {
            "cell_type": "code",
            "source": [
                "cd \"$home\\Documents\\GitHub\\Demos\\Presentations\\Pester-for-PowerBI\""
            ],
            "metadata": {
                "azdata_cell_guid": "49c48ef6-11d3-47a0-b33c-5ec02aa4f4ee"
            },
            "outputs": [
                {
                    "name": "stdout",
                    "text": "",
                    "output_type": "stream"
                }
            ],
            "execution_count": 3
        },
        {
            "cell_type": "markdown",
            "source": [
                "Load the Invoke-DaxQuery function into the current session"
            ],
            "metadata": {
                "azdata_cell_guid": "121c80bc-db04-40e9-a869-1a4f7ec4b16f"
            }
        },
        {
            "cell_type": "code",
            "source": [
                ". .\\Invoke-DaxQuery.ps1"
            ],
            "metadata": {
                "azdata_cell_guid": "becec3d0-49e1-41fa-a9ec-0c5f8374cee6"
            },
            "outputs": [
                {
                    "name": "stdout",
                    "text": ".",
                    "output_type": "stream"
                },
                {
                    "name": "stdout",
                    "text": " {\n>> . .\\Invoke-DaxQuery.ps1\n>> }\n>> \n",
                    "output_type": "stream"
                }
            ],
            "execution_count": 4
        },
        {
            "cell_type": "markdown",
            "source": [
                "Start querying"
            ],
            "metadata": {
                "azdata_cell_guid": "e62f9dae-eea6-4fd6-bfa4-6768004ea07b"
            }
        },
        {
            "cell_type": "code",
            "source": [
                "Invoke-DaxQuery -ServerAddress localhost:51735 -Database '7329df10-417b-47cf-914e-9e2d4c0ed925' -Query \"EVALUATE ReportCatalog\" |\r\n",
                "Format-Table -AutoSize"
            ],
            "metadata": {
                "azdata_cell_guid": "4bdd76b4-6342-4812-b075-36c4e299ad6d",
                "tags": []
            },
            "outputs": [
                {
                    "name": "stdout",
                    "text": "\nReportCatalog[ItemID]                ReportCatalog[Path]                                           ReportCatalog[Name] \n---------------------                -------------------                                           ------------------- \n11B6C0F1-79C3-44AE-9468-F204169FB46D /Data Sources                                                 Data Sources        \n4C4F8EFF-6891-436E-9089-7A426085243B /Datasets                                                     Datasets            \n3A88A45F-8B67-4599-8414-E02C7AD7C42D /emptyReport2                                                 emptyReport2        \nAA9A471F-92FF-41D6-AA69-02307E366DB8 /ReportCatalog                                                ReportCatalog       \n12C7303B-13AA-45B8-B422-3330B8E21AA1 /SQL Server Performance Dashboard                             SQL Server Perfor...\nAFA9A30C-A4F1-4154-94CF-7D2881AA2F20 /SQL Server Performance Dashboard/database_overview           database_overview   \n41C8A66D-22B6-4A05-A27C-6A79FEEBDA56 /SQL Server Performance Dashboard/database_storage_report     database_storage_...\n5BBD9F74-F2CB-4E67-8151-C29C6E6CC753 /SQL Server Performance Dashboard/historical_io               historical_io       \n23F486F0-B7BD-4F25-B98F-D4AB72701439 /SQL Server Performance Dashboard/historical_waits            historical_waits    \n833B5B1D-7C7D-4273-867A-8778E62D58FB /SQL Server Performance Dashboard/missing_index_from_showplan missing_index_fro...\nEF867B09-C508-4C1E-B763-A7C721D4AF0E /SQL Server Performance Dashboard/missing_indexes             missing_indexes     \nDF389D1D-615E-4B01-8F23-3BB89174A628 /SQL Server Performance Dashboard/page_details                page_details        \nA1ACC08F-CDC9-4394-AF8A-4C85ADCC9D98 /SQL Server Performance Dashboard/performance_dashboard_main  performance_dashb...\nE8CCDB39-5D76-41EC-B914-71FAAC8FD5A3 /SQL Server Performance Dashboard/plan_guide                  plan_guide          \nEA87F8D6-4B71-4742-B5DE-5B8EB25A2E61 /SQL Server Performance Dashboard/query_plan                  query_plan          \nD495E336-41F0-4E35-A293-F3E68C102E61 /SQL Server Performance Dashboard/query_stats                 query_stats         \n5AB9814F-9F88-4F07-A68D-6CAB87EC9CB3 /SQL Server Performance Dashboard/query_stats_details         query_stats_details \nD5D13DEA-FBB4-40EE-9160-5FF61036BE3A /SQL Server Performance Dashboard/recent_cpu                  recent_cpu          \n3983D3FF-13D4-4C9D-A044-325E8775726D /SQL Server Performance Dashboard/requests_overview           requests_overview   \nE8CFD899-D34A-46A3-929F-77411D2A9199 /SQL Server Performance Dashboard/session_details             session_details     \n17400518-F405-4C46-BCEB-9901AA9FBF53 /SQL Server Performance Dashboard/sessions_overview           sessions_overview   \nD8483E56-750C-45A6-8A18-32AE143D8FF4 /SQL Server Performance Dashboard/traces                      traces              \n56EE4644-1355-47BD-8CB4-BC9A9DDC1A17 /SQL Server Performance Dashboard/wait_blocking               wait_blocking       \n9359A121-D5B2-47C8-A42D-DF8DCB3622D8 /SQL Server Performance Dashboard/wait_buffer_io              wait_buffer_io      \n9FE15827-02AA-4B51-9B15-0F440F3F470C /SQL Server Performance Dashboard/wait_buflatch               wait_buflatch       \nFD53B59D-E90C-4571-9B40-AC9B53C6A05C /SQL Server Performance Dashboard/wait_generic                wait_generic        \n7F7B0260-6D59-4481-9125-1748F82A5322 /SQL Server Performance Dashboard/wait_latch                  wait_latch          \n\n\n",
                    "output_type": "stream"
                }
            ],
            "execution_count": 6
        }
    ]
}